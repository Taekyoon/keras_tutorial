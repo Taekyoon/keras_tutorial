{
  "cells": [
    {
      "cell_type": "markdown",
      "metadata": {
        "id": "RiKXWm7vw4Yk"
      },
      "source": [
        "# 케라스 NLP를 활용한 GPT 텍스트 생성 도전하기 튜토리얼 자료\n",
        "\n",
        "**진행자:** [최태균](https://www.linkedin.com/in/taekyoon-choi/)<br>\n",
        "**참고자료:** [GPT text generation with KerasNLP](https://colab.research.google.com/github/keras-team/keras-io/blob/master/examples/nlp/ipynb/text_generation_gpt.ipynb)"
      ]
    },
    {
      "cell_type": "markdown",
      "metadata": {
        "id": "-gNtWRfWw4Ym"
      },
      "source": [
        "## 소개\n",
        "\n",
        "이번 실습에서는 케라스 NLP를 활용하여 간단한 GPT 텍스트 생성 모델을 만들어 보고자 합니다.\n",
        "GPT 모델은 Transformer 기반 모델로 여러분이 입력하신 프롬프트 텍스트를 가지고 생성을 하는 모델입니다.\n",
        "\n",
        "이번 실습에서는 [simplebooks-92](https://arxiv.org/abs/1911.12391) 이라는 간단한 영문 텍스트 코퍼스를 가지고 텍스트 생성 모델을 학습 합니다. \n",
        "이 데이터의 경우 고빈도 어휘를 자주 사용하기 때문에 작은 모델을 학습 및 실습하는데 적합한 데이터로 알려져 있습니다.\n",
        "\n",
        "실습할 GPT 모델은 여러분들께서 아시는 GPT-2나 GPT-3가 아닌 **미니어쳐 GPT 모델** 입니다. (참고: \n",
        "[Text generation with a miniature GPT](https://keras.io/examples/generative/text_generation_with_miniature_gpt/))\n",
        "이 미니어쳐 GPT 모델을 KerasNLP 라이브러리를 통해 다음과 같은 경험을 얻으실 수 있습니다.\n",
        "\n",
        "- 텍스트 전처리를 위한 토크나이저 생성 및 동작 방식 이해 \n",
        "- GPT 텍스트 생성 모델 구성과 학습에 대한 이해\n",
        "- 학습한 GPT 모델에 대한 텍스트 생성 동작 방식에 대한 이해\n",
        "\n",
        "**시작하기 전에 주의할 점**: Colab에서 실습하시게 되면 세션 설정에 반드시 GPU runtime을 설정해주시기 바랍니다."
      ]
    },
    {
      "cell_type": "markdown",
      "metadata": {
        "id": "A-E05D43w4Ym"
      },
      "source": [
        "## 실습을 위한 설치\n",
        "\n",
        "본 실습은 아래 기술한 `pip install`을 해야 원활하게 실습이 가능합니다."
      ]
    },
    {
      "cell_type": "code",
      "execution_count": null,
      "metadata": {
        "id": "wYYF_5LbxI80",
        "colab": {
          "base_uri": "https://localhost:8080/"
        },
        "outputId": "e2c3caf0-0586-4aff-89a2-ba9c7140ddd9"
      },
      "outputs": [
        {
          "output_type": "stream",
          "name": "stdout",
          "text": [
            "Looking in indexes: https://pypi.org/simple, https://us-python.pkg.dev/colab-wheels/public/simple/\n",
            "Collecting tensorflow==2.10.0\n",
            "  Downloading tensorflow-2.10.0-cp37-cp37m-manylinux_2_17_x86_64.manylinux2014_x86_64.whl (578.0 MB)\n",
            "\u001b[K     |████████████████████████████████| 578.0 MB 16 kB/s \n",
            "\u001b[?25hRequirement already satisfied: absl-py>=1.0.0 in /usr/local/lib/python3.7/dist-packages (from tensorflow==2.10.0) (1.2.0)\n",
            "Requirement already satisfied: termcolor>=1.1.0 in /usr/local/lib/python3.7/dist-packages (from tensorflow==2.10.0) (2.0.1)\n",
            "Requirement already satisfied: gast<=0.4.0,>=0.2.1 in /usr/local/lib/python3.7/dist-packages (from tensorflow==2.10.0) (0.4.0)\n",
            "Requirement already satisfied: setuptools in /usr/local/lib/python3.7/dist-packages (from tensorflow==2.10.0) (57.4.0)\n",
            "Requirement already satisfied: wrapt>=1.11.0 in /usr/local/lib/python3.7/dist-packages (from tensorflow==2.10.0) (1.14.1)\n",
            "Requirement already satisfied: keras-preprocessing>=1.1.1 in /usr/local/lib/python3.7/dist-packages (from tensorflow==2.10.0) (1.1.2)\n",
            "Requirement already satisfied: protobuf<3.20,>=3.9.2 in /usr/local/lib/python3.7/dist-packages (from tensorflow==2.10.0) (3.17.3)\n",
            "Requirement already satisfied: numpy>=1.20 in /usr/local/lib/python3.7/dist-packages (from tensorflow==2.10.0) (1.21.6)\n",
            "Requirement already satisfied: libclang>=13.0.0 in /usr/local/lib/python3.7/dist-packages (from tensorflow==2.10.0) (14.0.6)\n",
            "Requirement already satisfied: six>=1.12.0 in /usr/local/lib/python3.7/dist-packages (from tensorflow==2.10.0) (1.15.0)\n",
            "Requirement already satisfied: typing-extensions>=3.6.6 in /usr/local/lib/python3.7/dist-packages (from tensorflow==2.10.0) (4.1.1)\n",
            "Requirement already satisfied: google-pasta>=0.1.1 in /usr/local/lib/python3.7/dist-packages (from tensorflow==2.10.0) (0.2.0)\n",
            "Requirement already satisfied: astunparse>=1.6.0 in /usr/local/lib/python3.7/dist-packages (from tensorflow==2.10.0) (1.6.3)\n",
            "Collecting tensorflow-estimator<2.11,>=2.10.0\n",
            "  Downloading tensorflow_estimator-2.10.0-py2.py3-none-any.whl (438 kB)\n",
            "\u001b[K     |████████████████████████████████| 438 kB 46.0 MB/s \n",
            "\u001b[?25hRequirement already satisfied: packaging in /usr/local/lib/python3.7/dist-packages (from tensorflow==2.10.0) (21.3)\n",
            "Requirement already satisfied: tensorflow-io-gcs-filesystem>=0.23.1 in /usr/local/lib/python3.7/dist-packages (from tensorflow==2.10.0) (0.27.0)\n",
            "Requirement already satisfied: h5py>=2.9.0 in /usr/local/lib/python3.7/dist-packages (from tensorflow==2.10.0) (3.1.0)\n",
            "Requirement already satisfied: grpcio<2.0,>=1.24.3 in /usr/local/lib/python3.7/dist-packages (from tensorflow==2.10.0) (1.49.1)\n",
            "Collecting keras<2.11,>=2.10.0\n",
            "  Downloading keras-2.10.0-py2.py3-none-any.whl (1.7 MB)\n",
            "\u001b[K     |████████████████████████████████| 1.7 MB 54.1 MB/s \n",
            "\u001b[?25hCollecting flatbuffers>=2.0\n",
            "  Downloading flatbuffers-22.9.24-py2.py3-none-any.whl (26 kB)\n",
            "Collecting tensorboard<2.11,>=2.10\n",
            "  Downloading tensorboard-2.10.1-py3-none-any.whl (5.9 MB)\n",
            "\u001b[K     |████████████████████████████████| 5.9 MB 49.9 MB/s \n",
            "\u001b[?25hRequirement already satisfied: opt-einsum>=2.3.2 in /usr/local/lib/python3.7/dist-packages (from tensorflow==2.10.0) (3.3.0)\n",
            "Requirement already satisfied: wheel<1.0,>=0.23.0 in /usr/local/lib/python3.7/dist-packages (from astunparse>=1.6.0->tensorflow==2.10.0) (0.37.1)\n",
            "Requirement already satisfied: cached-property in /usr/local/lib/python3.7/dist-packages (from h5py>=2.9.0->tensorflow==2.10.0) (1.5.2)\n",
            "Requirement already satisfied: tensorboard-plugin-wit>=1.6.0 in /usr/local/lib/python3.7/dist-packages (from tensorboard<2.11,>=2.10->tensorflow==2.10.0) (1.8.1)\n",
            "Requirement already satisfied: requests<3,>=2.21.0 in /usr/local/lib/python3.7/dist-packages (from tensorboard<2.11,>=2.10->tensorflow==2.10.0) (2.23.0)\n",
            "Requirement already satisfied: google-auth-oauthlib<0.5,>=0.4.1 in /usr/local/lib/python3.7/dist-packages (from tensorboard<2.11,>=2.10->tensorflow==2.10.0) (0.4.6)\n",
            "Requirement already satisfied: tensorboard-data-server<0.7.0,>=0.6.0 in /usr/local/lib/python3.7/dist-packages (from tensorboard<2.11,>=2.10->tensorflow==2.10.0) (0.6.1)\n",
            "Requirement already satisfied: werkzeug>=1.0.1 in /usr/local/lib/python3.7/dist-packages (from tensorboard<2.11,>=2.10->tensorflow==2.10.0) (1.0.1)\n",
            "Requirement already satisfied: google-auth<3,>=1.6.3 in /usr/local/lib/python3.7/dist-packages (from tensorboard<2.11,>=2.10->tensorflow==2.10.0) (1.35.0)\n",
            "Requirement already satisfied: markdown>=2.6.8 in /usr/local/lib/python3.7/dist-packages (from tensorboard<2.11,>=2.10->tensorflow==2.10.0) (3.4.1)\n",
            "Requirement already satisfied: cachetools<5.0,>=2.0.0 in /usr/local/lib/python3.7/dist-packages (from google-auth<3,>=1.6.3->tensorboard<2.11,>=2.10->tensorflow==2.10.0) (4.2.4)\n",
            "Requirement already satisfied: pyasn1-modules>=0.2.1 in /usr/local/lib/python3.7/dist-packages (from google-auth<3,>=1.6.3->tensorboard<2.11,>=2.10->tensorflow==2.10.0) (0.2.8)\n",
            "Requirement already satisfied: rsa<5,>=3.1.4 in /usr/local/lib/python3.7/dist-packages (from google-auth<3,>=1.6.3->tensorboard<2.11,>=2.10->tensorflow==2.10.0) (4.9)\n",
            "Requirement already satisfied: requests-oauthlib>=0.7.0 in /usr/local/lib/python3.7/dist-packages (from google-auth-oauthlib<0.5,>=0.4.1->tensorboard<2.11,>=2.10->tensorflow==2.10.0) (1.3.1)\n",
            "Requirement already satisfied: importlib-metadata>=4.4 in /usr/local/lib/python3.7/dist-packages (from markdown>=2.6.8->tensorboard<2.11,>=2.10->tensorflow==2.10.0) (5.0.0)\n",
            "Requirement already satisfied: zipp>=0.5 in /usr/local/lib/python3.7/dist-packages (from importlib-metadata>=4.4->markdown>=2.6.8->tensorboard<2.11,>=2.10->tensorflow==2.10.0) (3.9.0)\n",
            "Requirement already satisfied: pyasn1<0.5.0,>=0.4.6 in /usr/local/lib/python3.7/dist-packages (from pyasn1-modules>=0.2.1->google-auth<3,>=1.6.3->tensorboard<2.11,>=2.10->tensorflow==2.10.0) (0.4.8)\n",
            "Requirement already satisfied: urllib3!=1.25.0,!=1.25.1,<1.26,>=1.21.1 in /usr/local/lib/python3.7/dist-packages (from requests<3,>=2.21.0->tensorboard<2.11,>=2.10->tensorflow==2.10.0) (1.24.3)\n",
            "Requirement already satisfied: chardet<4,>=3.0.2 in /usr/local/lib/python3.7/dist-packages (from requests<3,>=2.21.0->tensorboard<2.11,>=2.10->tensorflow==2.10.0) (3.0.4)\n",
            "Requirement already satisfied: certifi>=2017.4.17 in /usr/local/lib/python3.7/dist-packages (from requests<3,>=2.21.0->tensorboard<2.11,>=2.10->tensorflow==2.10.0) (2022.9.24)\n",
            "Requirement already satisfied: idna<3,>=2.5 in /usr/local/lib/python3.7/dist-packages (from requests<3,>=2.21.0->tensorboard<2.11,>=2.10->tensorflow==2.10.0) (2.10)\n",
            "Requirement already satisfied: oauthlib>=3.0.0 in /usr/local/lib/python3.7/dist-packages (from requests-oauthlib>=0.7.0->google-auth-oauthlib<0.5,>=0.4.1->tensorboard<2.11,>=2.10->tensorflow==2.10.0) (3.2.1)\n",
            "Requirement already satisfied: pyparsing!=3.0.5,>=2.0.2 in /usr/local/lib/python3.7/dist-packages (from packaging->tensorflow==2.10.0) (3.0.9)\n",
            "Installing collected packages: tensorflow-estimator, tensorboard, keras, flatbuffers, tensorflow\n",
            "  Attempting uninstall: tensorflow-estimator\n",
            "    Found existing installation: tensorflow-estimator 2.9.0\n",
            "    Uninstalling tensorflow-estimator-2.9.0:\n",
            "      Successfully uninstalled tensorflow-estimator-2.9.0\n",
            "  Attempting uninstall: tensorboard\n",
            "    Found existing installation: tensorboard 2.9.1\n",
            "    Uninstalling tensorboard-2.9.1:\n",
            "      Successfully uninstalled tensorboard-2.9.1\n",
            "  Attempting uninstall: keras\n",
            "    Found existing installation: keras 2.9.0\n",
            "    Uninstalling keras-2.9.0:\n",
            "      Successfully uninstalled keras-2.9.0\n",
            "  Attempting uninstall: flatbuffers\n",
            "    Found existing installation: flatbuffers 1.12\n",
            "    Uninstalling flatbuffers-1.12:\n",
            "      Successfully uninstalled flatbuffers-1.12\n",
            "  Attempting uninstall: tensorflow\n",
            "    Found existing installation: tensorflow 2.9.2\n",
            "    Uninstalling tensorflow-2.9.2:\n",
            "      Successfully uninstalled tensorflow-2.9.2\n",
            "Successfully installed flatbuffers-22.9.24 keras-2.10.0 tensorboard-2.10.1 tensorflow-2.10.0 tensorflow-estimator-2.10.0\n",
            "Looking in indexes: https://pypi.org/simple, https://us-python.pkg.dev/colab-wheels/public/simple/\n",
            "Collecting git+https://github.com/keras-team/keras-nlp.git\n",
            "  Cloning https://github.com/keras-team/keras-nlp.git to /tmp/pip-req-build-7huwm7hv\n",
            "  Running command git clone -q https://github.com/keras-team/keras-nlp.git /tmp/pip-req-build-7huwm7hv\n",
            "Requirement already satisfied: absl-py in /usr/local/lib/python3.7/dist-packages (from keras-nlp==0.3.0) (1.2.0)\n",
            "Requirement already satisfied: numpy in /usr/local/lib/python3.7/dist-packages (from keras-nlp==0.3.0) (1.21.6)\n",
            "Requirement already satisfied: packaging in /usr/local/lib/python3.7/dist-packages (from keras-nlp==0.3.0) (21.3)\n",
            "Requirement already satisfied: tensorflow in /usr/local/lib/python3.7/dist-packages (from keras-nlp==0.3.0) (2.10.0)\n",
            "Collecting tensorflow-text\n",
            "  Downloading tensorflow_text-2.10.0-cp37-cp37m-manylinux_2_17_x86_64.manylinux2014_x86_64.whl (5.9 MB)\n",
            "\u001b[K     |████████████████████████████████| 5.9 MB 16.0 MB/s \n",
            "\u001b[?25hRequirement already satisfied: pyparsing!=3.0.5,>=2.0.2 in /usr/local/lib/python3.7/dist-packages (from packaging->keras-nlp==0.3.0) (3.0.9)\n",
            "Requirement already satisfied: flatbuffers>=2.0 in /usr/local/lib/python3.7/dist-packages (from tensorflow->keras-nlp==0.3.0) (22.9.24)\n",
            "Requirement already satisfied: protobuf<3.20,>=3.9.2 in /usr/local/lib/python3.7/dist-packages (from tensorflow->keras-nlp==0.3.0) (3.17.3)\n",
            "Requirement already satisfied: astunparse>=1.6.0 in /usr/local/lib/python3.7/dist-packages (from tensorflow->keras-nlp==0.3.0) (1.6.3)\n",
            "Requirement already satisfied: google-pasta>=0.1.1 in /usr/local/lib/python3.7/dist-packages (from tensorflow->keras-nlp==0.3.0) (0.2.0)\n",
            "Requirement already satisfied: keras<2.11,>=2.10.0 in /usr/local/lib/python3.7/dist-packages (from tensorflow->keras-nlp==0.3.0) (2.10.0)\n",
            "Requirement already satisfied: tensorflow-estimator<2.11,>=2.10.0 in /usr/local/lib/python3.7/dist-packages (from tensorflow->keras-nlp==0.3.0) (2.10.0)\n",
            "Requirement already satisfied: tensorboard<2.11,>=2.10 in /usr/local/lib/python3.7/dist-packages (from tensorflow->keras-nlp==0.3.0) (2.10.1)\n",
            "Requirement already satisfied: keras-preprocessing>=1.1.1 in /usr/local/lib/python3.7/dist-packages (from tensorflow->keras-nlp==0.3.0) (1.1.2)\n",
            "Requirement already satisfied: setuptools in /usr/local/lib/python3.7/dist-packages (from tensorflow->keras-nlp==0.3.0) (57.4.0)\n",
            "Requirement already satisfied: wrapt>=1.11.0 in /usr/local/lib/python3.7/dist-packages (from tensorflow->keras-nlp==0.3.0) (1.14.1)\n",
            "Requirement already satisfied: opt-einsum>=2.3.2 in /usr/local/lib/python3.7/dist-packages (from tensorflow->keras-nlp==0.3.0) (3.3.0)\n",
            "Requirement already satisfied: termcolor>=1.1.0 in /usr/local/lib/python3.7/dist-packages (from tensorflow->keras-nlp==0.3.0) (2.0.1)\n",
            "Requirement already satisfied: gast<=0.4.0,>=0.2.1 in /usr/local/lib/python3.7/dist-packages (from tensorflow->keras-nlp==0.3.0) (0.4.0)\n",
            "Requirement already satisfied: libclang>=13.0.0 in /usr/local/lib/python3.7/dist-packages (from tensorflow->keras-nlp==0.3.0) (14.0.6)\n",
            "Requirement already satisfied: tensorflow-io-gcs-filesystem>=0.23.1 in /usr/local/lib/python3.7/dist-packages (from tensorflow->keras-nlp==0.3.0) (0.27.0)\n",
            "Requirement already satisfied: h5py>=2.9.0 in /usr/local/lib/python3.7/dist-packages (from tensorflow->keras-nlp==0.3.0) (3.1.0)\n",
            "Requirement already satisfied: six>=1.12.0 in /usr/local/lib/python3.7/dist-packages (from tensorflow->keras-nlp==0.3.0) (1.15.0)\n",
            "Requirement already satisfied: grpcio<2.0,>=1.24.3 in /usr/local/lib/python3.7/dist-packages (from tensorflow->keras-nlp==0.3.0) (1.49.1)\n",
            "Requirement already satisfied: typing-extensions>=3.6.6 in /usr/local/lib/python3.7/dist-packages (from tensorflow->keras-nlp==0.3.0) (4.1.1)\n",
            "Requirement already satisfied: wheel<1.0,>=0.23.0 in /usr/local/lib/python3.7/dist-packages (from astunparse>=1.6.0->tensorflow->keras-nlp==0.3.0) (0.37.1)\n",
            "Requirement already satisfied: cached-property in /usr/local/lib/python3.7/dist-packages (from h5py>=2.9.0->tensorflow->keras-nlp==0.3.0) (1.5.2)\n",
            "Requirement already satisfied: werkzeug>=1.0.1 in /usr/local/lib/python3.7/dist-packages (from tensorboard<2.11,>=2.10->tensorflow->keras-nlp==0.3.0) (1.0.1)\n",
            "Requirement already satisfied: markdown>=2.6.8 in /usr/local/lib/python3.7/dist-packages (from tensorboard<2.11,>=2.10->tensorflow->keras-nlp==0.3.0) (3.4.1)\n",
            "Requirement already satisfied: tensorboard-data-server<0.7.0,>=0.6.0 in /usr/local/lib/python3.7/dist-packages (from tensorboard<2.11,>=2.10->tensorflow->keras-nlp==0.3.0) (0.6.1)\n",
            "Requirement already satisfied: requests<3,>=2.21.0 in /usr/local/lib/python3.7/dist-packages (from tensorboard<2.11,>=2.10->tensorflow->keras-nlp==0.3.0) (2.23.0)\n",
            "Requirement already satisfied: google-auth-oauthlib<0.5,>=0.4.1 in /usr/local/lib/python3.7/dist-packages (from tensorboard<2.11,>=2.10->tensorflow->keras-nlp==0.3.0) (0.4.6)\n",
            "Requirement already satisfied: tensorboard-plugin-wit>=1.6.0 in /usr/local/lib/python3.7/dist-packages (from tensorboard<2.11,>=2.10->tensorflow->keras-nlp==0.3.0) (1.8.1)\n",
            "Requirement already satisfied: google-auth<3,>=1.6.3 in /usr/local/lib/python3.7/dist-packages (from tensorboard<2.11,>=2.10->tensorflow->keras-nlp==0.3.0) (1.35.0)\n",
            "Requirement already satisfied: pyasn1-modules>=0.2.1 in /usr/local/lib/python3.7/dist-packages (from google-auth<3,>=1.6.3->tensorboard<2.11,>=2.10->tensorflow->keras-nlp==0.3.0) (0.2.8)\n",
            "Requirement already satisfied: rsa<5,>=3.1.4 in /usr/local/lib/python3.7/dist-packages (from google-auth<3,>=1.6.3->tensorboard<2.11,>=2.10->tensorflow->keras-nlp==0.3.0) (4.9)\n",
            "Requirement already satisfied: cachetools<5.0,>=2.0.0 in /usr/local/lib/python3.7/dist-packages (from google-auth<3,>=1.6.3->tensorboard<2.11,>=2.10->tensorflow->keras-nlp==0.3.0) (4.2.4)\n",
            "Requirement already satisfied: requests-oauthlib>=0.7.0 in /usr/local/lib/python3.7/dist-packages (from google-auth-oauthlib<0.5,>=0.4.1->tensorboard<2.11,>=2.10->tensorflow->keras-nlp==0.3.0) (1.3.1)\n",
            "Requirement already satisfied: importlib-metadata>=4.4 in /usr/local/lib/python3.7/dist-packages (from markdown>=2.6.8->tensorboard<2.11,>=2.10->tensorflow->keras-nlp==0.3.0) (5.0.0)\n",
            "Requirement already satisfied: zipp>=0.5 in /usr/local/lib/python3.7/dist-packages (from importlib-metadata>=4.4->markdown>=2.6.8->tensorboard<2.11,>=2.10->tensorflow->keras-nlp==0.3.0) (3.9.0)\n",
            "Requirement already satisfied: pyasn1<0.5.0,>=0.4.6 in /usr/local/lib/python3.7/dist-packages (from pyasn1-modules>=0.2.1->google-auth<3,>=1.6.3->tensorboard<2.11,>=2.10->tensorflow->keras-nlp==0.3.0) (0.4.8)\n",
            "Requirement already satisfied: chardet<4,>=3.0.2 in /usr/local/lib/python3.7/dist-packages (from requests<3,>=2.21.0->tensorboard<2.11,>=2.10->tensorflow->keras-nlp==0.3.0) (3.0.4)\n",
            "Requirement already satisfied: idna<3,>=2.5 in /usr/local/lib/python3.7/dist-packages (from requests<3,>=2.21.0->tensorboard<2.11,>=2.10->tensorflow->keras-nlp==0.3.0) (2.10)\n",
            "Requirement already satisfied: urllib3!=1.25.0,!=1.25.1,<1.26,>=1.21.1 in /usr/local/lib/python3.7/dist-packages (from requests<3,>=2.21.0->tensorboard<2.11,>=2.10->tensorflow->keras-nlp==0.3.0) (1.24.3)\n",
            "Requirement already satisfied: certifi>=2017.4.17 in /usr/local/lib/python3.7/dist-packages (from requests<3,>=2.21.0->tensorboard<2.11,>=2.10->tensorflow->keras-nlp==0.3.0) (2022.9.24)\n",
            "Requirement already satisfied: oauthlib>=3.0.0 in /usr/local/lib/python3.7/dist-packages (from requests-oauthlib>=0.7.0->google-auth-oauthlib<0.5,>=0.4.1->tensorboard<2.11,>=2.10->tensorflow->keras-nlp==0.3.0) (3.2.1)\n",
            "Requirement already satisfied: tensorflow-hub>=0.8.0 in /usr/local/lib/python3.7/dist-packages (from tensorflow-text->keras-nlp==0.3.0) (0.12.0)\n",
            "Building wheels for collected packages: keras-nlp\n",
            "  Building wheel for keras-nlp (setup.py) ... \u001b[?25l\u001b[?25hdone\n",
            "  Created wheel for keras-nlp: filename=keras_nlp-0.3.0-py3-none-any.whl size=220734 sha256=6567eb496facbb99802623f509819cd4669813f75c149520ea8b1f0712911499\n",
            "  Stored in directory: /tmp/pip-ephem-wheel-cache-86g36ad2/wheels/2d/78/fb/0ebb51966eb085f10142e519d79e284d45310b1d1b641311b2\n",
            "Successfully built keras-nlp\n",
            "Installing collected packages: tensorflow-text, keras-nlp\n",
            "Successfully installed keras-nlp-0.3.0 tensorflow-text-2.10.0\n"
          ]
        }
      ],
      "source": [
        "!pip install tensorflow==2.10.0\n",
        "!pip install git+https://github.com/keras-team/keras-nlp.git --upgrade"
      ]
    },
    {
      "cell_type": "code",
      "execution_count": null,
      "metadata": {
        "id": "m2g1O6MXw4Yn"
      },
      "outputs": [],
      "source": [
        "import os\n",
        "import keras_nlp\n",
        "import tensorflow as tf\n",
        "from tensorflow import keras"
      ]
    },
    {
      "cell_type": "code",
      "execution_count": null,
      "metadata": {
        "colab": {
          "base_uri": "https://localhost:8080/"
        },
        "id": "r_3TmHUd7GNy",
        "outputId": "0a0a7fe2-d0ef-48b4-cf43-53accc4a5bbc"
      },
      "outputs": [
        {
          "output_type": "stream",
          "name": "stdout",
          "text": [
            "2.10.0\n",
            "0.3.0\n"
          ]
        }
      ],
      "source": [
        "print(tf.__version__)\n",
        "print(keras_nlp.__version__)"
      ]
    },
    {
      "cell_type": "markdown",
      "metadata": {
        "id": "mnJAd7UYw4Yo"
      },
      "source": [
        "## Settings & hyperparameters"
      ]
    },
    {
      "cell_type": "code",
      "execution_count": null,
      "metadata": {
        "id": "GBY7nGZ6w4Yo"
      },
      "outputs": [],
      "source": [
        "# Data\n",
        "BATCH_SIZE = 64\n",
        "SEQ_LEN = 128\n",
        "MIN_TRAINING_SEQ_LEN = 450\n",
        "\n",
        "# Model\n",
        "EMBED_DIM = 256\n",
        "FEED_FORWARD_DIM = 256\n",
        "NUM_HEADS = 3\n",
        "NUM_LAYERS = 2\n",
        "VOCAB_SIZE = 5000  # Limits parameters in model.\n",
        "\n",
        "# Training\n",
        "EPOCHS = 6\n",
        "\n",
        "# Inference\n",
        "NUM_TOKENS_TO_GENERATE = 10"
      ]
    },
    {
      "cell_type": "markdown",
      "metadata": {
        "id": "018P1VU2w4Yo"
      },
      "source": [
        "## 데이터 가져오기\n",
        "\n",
        "먼저 여러분들께서 학습할 데이터셋을 가져와 보도록 합시다. \n",
        "여러분들이 학습하게 될 SimpleBooks 데이터셋은 작은 어휘 사전 크기에 많은 토큰 수를 가지고 있는 데이터셋 입니다. \n",
        "데이터 토큰 사이즈는 약 30M 정도로 `WikiText-103`데이터(100M)에 비해 30% 적어 간단하게 학습을 하고 확인하기에 용이합니다."
      ]
    },
    {
      "cell_type": "code",
      "execution_count": null,
      "metadata": {
        "colab": {
          "base_uri": "https://localhost:8080/"
        },
        "id": "uQlTqzzYw4Yp",
        "outputId": "c5ae09fb-0233-4fe7-a9f8-086dda6be9e5"
      },
      "outputs": [
        {
          "output_type": "stream",
          "name": "stdout",
          "text": [
            "Downloading data from https://dldata-public.s3.us-east-2.amazonaws.com/simplebooks.zip\n",
            "282386239/282386239 [==============================] - 11s 0us/step\n"
          ]
        }
      ],
      "source": [
        "keras.utils.get_file(\n",
        "    origin=\"https://dldata-public.s3.us-east-2.amazonaws.com/simplebooks.zip\",\n",
        "    extract=True,\n",
        ")\n",
        "dir = os.path.expanduser(\"~/.keras/datasets/simplebooks/\")"
      ]
    },
    {
      "cell_type": "markdown",
      "source": [
        "## 텍스트 파일 데이터 전처리 파이프라인 만들기\n",
        "\n",
        "다운로드한 simplebooks 데이터를 확인해보면 텍스트로 이루어진 파일이라는 것을 확인해볼 수 있습니다.\n",
        "이 데이터를 모델 학습 데이터로 만들기 위해 `tf.data`를 가지고 파일에서 읽어오는 전처리 파이프라인을 구성합니다."
      ],
      "metadata": {
        "id": "AxALiS5chIAa"
      }
    },
    {
      "cell_type": "markdown",
      "source": [
        "먼저 우리가 학습할 데이터를 잠깐 살펴보면 아래와 같이 단순한 텍스트 파일로 구성되어있는걸 확인할 수 있습니다."
      ],
      "metadata": {
        "id": "ijGZzTHgGCPe"
      }
    },
    {
      "cell_type": "code",
      "execution_count": null,
      "metadata": {
        "colab": {
          "base_uri": "https://localhost:8080/"
        },
        "id": "lCXaMUikyZKI",
        "outputId": "45bbde72-daa5-4e96-eb27-dc23e0badaa4"
      },
      "outputs": [
        {
          "output_type": "stream",
          "name": "stdout",
          "text": [
            "More Jataka Tales\n",
            "\n",
            "By\n",
            "\n",
            "Ellen C. Babbitt\n",
            "\n",
            "\n",
            "\n",
            "I\n",
            "\n",
            "The Girl Monkey And The String Of Pearls\n",
            "\n",
            "\n",
            "One day the king went for a long walk in the woods. When he came back to his own garden, he sent for his family to come down to the lake for a swim.\n",
            "\n",
            "When they were all ready to go into the water, the queen and her ladies left their jewels in charge of the servants, and then went down into the lake.\n",
            "\n",
            "As the queen put her string of pearls away in a box, she was watched by a Girl Monkey who sat in the branches of a tree near-by. This Girl Monkey wanted to get the queen's string of pearls, so she sat still and watched, hoping that the servant in charge of the pearls would go to sleep.\n",
            "\n",
            "At first the servant kept her eyes on the jewel-box. But by and by she began to nod, and then she fell fast asleep.\n"
          ]
        }
      ],
      "source": [
        "!head -n20 ~/.keras/datasets/simplebooks/simplebooks-2-raw/train.txt"
      ]
    },
    {
      "cell_type": "markdown",
      "source": [
        "### `tf.data` 를 이용한 파일 데이터 전처리 하기\n",
        "\n",
        "모델학습을 위해 학습 데이터를 `tf.data`로 데이터 전처리 파이프라인을 어떻게 구성하는지 살펴보겠습니다.\n",
        "\n",
        "`tf.data.TextLineDataset` 클래스를 생성하면 입력한 경로를 통해 텍스트 데이터를 불러와 `Dataset` 객체를 생성합니다.\n",
        "\n",
        "\n",
        "**참고**: [tf.data을 활용한 텍스트 데이터 파이프라인 가이드](https://www.tensorflow.org/guide/data#consuming_text_data)"
      ],
      "metadata": {
        "id": "t3IdWFQ-h5eI"
      }
    },
    {
      "cell_type": "code",
      "source": [
        "NUM_ITERS = 10\n",
        "\n",
        "dataset = tf.data.TextLineDataset(dir + \"simplebooks-92-raw/train.txt\")\n",
        "print(dataset)"
      ],
      "metadata": {
        "colab": {
          "base_uri": "https://localhost:8080/"
        },
        "id": "zGh6U1kIn8rt",
        "outputId": "95dc349e-49c8-4aa4-e1f5-7e53f63c0cd0"
      },
      "execution_count": null,
      "outputs": [
        {
          "output_type": "stream",
          "name": "stdout",
          "text": [
            "<TextLineDatasetV2 element_spec=TensorSpec(shape=(), dtype=tf.string, name=None)>\n"
          ]
        }
      ]
    },
    {
      "cell_type": "markdown",
      "source": [
        "`Dataset` 객체는 `iterable` 클래스이기 때문에 dataset 객체에 for 구문을 적용하여 데이터를 확인할 수 있습니다. "
      ],
      "metadata": {
        "id": "wSmP-vBIixSg"
      }
    },
    {
      "cell_type": "code",
      "source": [
        "for i, element in enumerate(dataset):\n",
        "    print(element)\n",
        "\n",
        "    if i > NUM_ITERS:\n",
        "        break"
      ],
      "metadata": {
        "colab": {
          "base_uri": "https://localhost:8080/"
        },
        "id": "2XgeTvIDpI4N",
        "outputId": "64c1576d-2079-492d-9e4c-e806edcfbdbe"
      },
      "execution_count": null,
      "outputs": [
        {
          "output_type": "stream",
          "name": "stdout",
          "text": [
            "tf.Tensor(b\"Dave Darrin's Second Year At Annapolis\", shape=(), dtype=string)\n",
            "tf.Tensor(b'', shape=(), dtype=string)\n",
            "tf.Tensor(b'Or', shape=(), dtype=string)\n",
            "tf.Tensor(b'', shape=(), dtype=string)\n",
            "tf.Tensor(b'Two Midshipmen As Naval Academy \"Youngsters\"', shape=(), dtype=string)\n",
            "tf.Tensor(b'', shape=(), dtype=string)\n",
            "tf.Tensor(b'By', shape=(), dtype=string)\n",
            "tf.Tensor(b'', shape=(), dtype=string)\n",
            "tf.Tensor(b'H. Irving Hancock', shape=(), dtype=string)\n",
            "tf.Tensor(b'', shape=(), dtype=string)\n",
            "tf.Tensor(b'', shape=(), dtype=string)\n",
            "tf.Tensor(b'', shape=(), dtype=string)\n"
          ]
        }
      ]
    },
    {
      "cell_type": "markdown",
      "source": [
        "`as_numpy_iterator` 함수를 사용하면 각 데이터 인스턴스의 값을 출력해볼 수 있습니다."
      ],
      "metadata": {
        "id": "NCpblUjgl3TI"
      }
    },
    {
      "cell_type": "code",
      "source": [
        "for i, element in enumerate(dataset.as_numpy_iterator()):\n",
        "    print(element)\n",
        "    if i > NUM_ITERS:\n",
        "        break"
      ],
      "metadata": {
        "colab": {
          "base_uri": "https://localhost:8080/"
        },
        "id": "wuiHtwd2pLe2",
        "outputId": "af28087f-9823-4fed-d260-5c195d384ccb"
      },
      "execution_count": null,
      "outputs": [
        {
          "output_type": "stream",
          "name": "stdout",
          "text": [
            "b\"Dave Darrin's Second Year At Annapolis\"\n",
            "b''\n",
            "b'Or'\n",
            "b''\n",
            "b'Two Midshipmen As Naval Academy \"Youngsters\"'\n",
            "b''\n",
            "b'By'\n",
            "b''\n",
            "b'H. Irving Hancock'\n",
            "b''\n",
            "b''\n",
            "b''\n"
          ]
        }
      ]
    },
    {
      "cell_type": "markdown",
      "source": [
        "`Dataset` 객체에 `filter` 함수를 호출하면 `Dataset`객체가 for 구문에서 순회할 때 `filter`에 정의한 로직이 동작하여 출력하게 됩니다.\n",
        "\n",
        "여기서는 텍스트의 길이가 `MIN_TRAINING_SEQ_LEN`로 정의한 값보다 큰 텍스트만을 필터하여 출력하는 결과를 확인할 수 있습니다."
      ],
      "metadata": {
        "id": "9Ds-pq9QmUGz"
      }
    },
    {
      "cell_type": "code",
      "source": [
        "filtered_dataset = dataset.filter(lambda x: tf.strings.length(x) > MIN_TRAINING_SEQ_LEN)\n",
        "\n",
        "for i, element in enumerate(filtered_dataset.as_numpy_iterator()):\n",
        "    print(element)\n",
        "\n",
        "    if i > NUM_ITERS:\n",
        "        break"
      ],
      "metadata": {
        "colab": {
          "base_uri": "https://localhost:8080/"
        },
        "id": "pag6YPbkphFl",
        "outputId": "da9f2ac0-9976-47cd-d3ae-277d5a4df27d"
      },
      "execution_count": null,
      "outputs": [
        {
          "output_type": "stream",
          "name": "stdout",
          "text": [
            "b\"Readers of that preceding volume will recall how Dave Darrin and Dan Dalzell entered the United States Naval Academy, one appointed by a Congressman and the other by a United States Senator. Such readers will remember the difficult time that Dave and Dan had in getting through the work of the first hard, grinding year. They will also recall how Dave Darrin, when accused of treachery to his classmates, patiently bided his time until he, with the aid of some close friends, was able to demonstrate his innocence. Our readers will also remember how two evil-minded members of the then fourth class plotted to increase Damn's disgrace and to drive him out of the brigade; also how these two plotters, Midshipmen Henkel and Brimmer, were caught in their plotting and were themselves forced out of the brigade. Our readers know that before the end of the first year at the Naval Academy, Dave had fully reinstated himself in the esteem of his manly classmates, and how he quickly became the most popular and respected member of his class.\"\n",
            "b'\"That scoundrelly Chow made his boast that other midshipmen patronized his place. I don\\'t believe it. Such a vice wouldn\\'t appeal to you, and it doesn\\'t to me. But there are more than two hundred new plebes coming in just now, and many of these boys have never been away from home before. Some of them might foolishly seek the lure of a new vice, and might find the habit fastened on them before they were aware of it. Chow\\'s vile den might spoil some good material for the quarter-deck, and, as a matter of midshipman honor, we\\'re bound to see that the place is cleaned out right away.\"'\n",
            "b'\"Just this,\" replied Pennington, hanging his head. \"I went into a drug store and asked a clerk that I know what was the best thing for toothache. He told me the best he knew was to smoke a pipe of opium, and told me where to find Chow Hop, and what to say to the chink. And it\\'s all a lie about opium helping a sore tooth,\" cried the wretched midshipman, clapping a hand to his jaw, \"for there goes that fiendish tooth again! But say! You fellows are not going to leak about my little mishap?\"'\n",
            "b'\"A very excellent reason, Mr. Darrin, and I commend you heartily for it. I shall also report your exemplary conduct to the commandant of midshipmen. You have, in my opinion, Mr. Darrin, displayed very good judgment, and you acted upon that judgment with promptness and decision. But I am afraid,\" continued the Navy captain dryly, \"that you have done something that will make you highly unpopular, for a while, with some of the members of your class.\"'\n",
            "b'When Darrin and his seconds left the barn they went off to enjoy what remained of the shore leave. Pennington\\'s seconds finally, at his own request, left him at an ice cream parlor, where he proposed to remain until he could return to the big, steel \"Massachusetts\" without exciting any wonder over the little time he had remained ashore. Pennington had strength to walk about, but he was far from being in really good shape, and preferred to keep quiet.'\n",
            "b'\"Of course we can,\" jeered Dave Darrin. \"But what officer is fool enough to believe such a cock-and-bull story as this one will seem? At the very least, the commandant would believe that we had been playing some pretty stiff prank ourselves, in order to get treated in this fashion. No, no, fellows! We may just as well undeceive ourselves, and prepare to take the full soaking of discipline that we\\'re bound to get. If we attempted this sort of explanation, we\\'d be lucky indeed to get through the affair without being tried by general court-martial for lying.\"'\n",
            "b'\"I don\\'t want to discourage any of you young gentlemen,\" continued the marine corps lieutenant. \"But there\\'s just about one chance in a thousand that we shall be able to sight and pick up any one of the unlucky three. In the first place, it would take a wonderful swimmer to live long in such a furious sea. In the second place, if all three are still swimming, it will be almost out of the question to make out their heads among the huge waves. You\\'ve none of you seen a man overboard before in a big sea?\"'\n",
            "b'\"Belle, we were pretty near sweethearts in the High School, I think,\" he went on, huskily, but looking her straight in the eyes. \"At least, that was my hope, and I hope, most earnestly, that it\\'s going to continue. Belle, I am a long way from my real career, yet. It will be five years, yet, before I have any right to marry. But I want to look forward, all the time, to the sweet belief that my schoolgirl sweetheart is going to become my wife one of these days. I want that as a goal to work for, along with my commission in the Navy. But to this much I agree: if you say \\'yes\\' now, and find later that you have made a mistake, you will tell me so frankly.\"'\n",
            "b'\"But, seriously,\" Dan grumbled on, after a while, \"I\\'m aghast at what an exacting government expects and demands that we shall know. Just look over the list -- mechanical drawing and mechanical processes, analytical geometry, calculus, physics, chemistry, English literature, French and Spanish, integral calculus, spherical trigonometry, stereographic projection and United States Naval history! David, my boy, by the end of this year we\\'ll know more than college professors do.\"'\n",
            "b'\"Oh, that\\'s all right, David, little giant,\" returned Dalzell with an attempt at cheeriness. \"You mean well, but a fellow isn\\'t reported deficient unless he\\'s so far behind that the Board has his case settled in advance. From all I can hear it isn\\'t once in a camel\\'s age that a fellow so reported, and ordered before the Board, gets off with anything less than a hard, wet bilge. What I\\'m thinking of now is, what am I going to pick up as a career when I go home from here as a failure.\"'\n",
            "b'\"Well, now, I want to think over that,\" confessed Freeman frankly. \"Of course, Dalzell\\'s record, this term, is in black and white, and can\\'t be gainsaid. It\\'s just possible our young friend can put up some line of talk that will extend his time here, and perhaps enable him to pull through. It\\'s a mighty important question, so I\\'ll tell you what we\\'ll do. Of course, the hop comes on for to-morrow night. Let me have until Sunday evening. Meanwhile I\\'ll talk with some of the other fellows of my class. You both come in here Sunday evening, and I\\'ll have the answer for you -- if there\\'s any possible way of finding one.\"'\n",
            "b'\"I am aware, sir, and gentlemen, that I am at present sufficiently deficient in my studies to warrant my being dropped,\" Dan began rather slowly. \"Yet I would call attention to the fact that I was nearly as badly off, in the matter of markings, at this time last year. It is also a matter of record that I pulled myself together, later on, and contrived to get through the first year with a considerable margin of credits to spare. If I am permitted to finish the present term here I believe I can almost positively promise that I will round out this year with as good a showing as I did last year.\"'\n"
          ]
        }
      ]
    },
    {
      "cell_type": "markdown",
      "source": [
        "`Dataset` 객체는 `filter`와 같은 여러 전처리 함수들을 호출하면서 데이터 처리 파이프라인을 구성할 수 있습니다.\n",
        "\n",
        "아래 예시는 `filter`함수와 `batch`함수를 같이 호출한 결과압니다.\n",
        "`batch`함수는 설정하여 한 iteration에 설정한 batch size 만큼 출력될 수 있도록 합니다."
      ],
      "metadata": {
        "id": "SQbySYwqnyMx"
      }
    },
    {
      "cell_type": "code",
      "source": [
        "batched_dataset = dataset.filter(lambda x: tf.strings.length(x) > MIN_TRAINING_SEQ_LEN).batch(2)\n",
        "\n",
        "for i, element in enumerate(batched_dataset.as_numpy_iterator()):\n",
        "    print(element)\n",
        "    \n",
        "    if i > NUM_ITERS:\n",
        "        break"
      ],
      "metadata": {
        "colab": {
          "base_uri": "https://localhost:8080/"
        },
        "id": "a2alV_pRp7Xg",
        "outputId": "c3bc8c7f-a82e-4edb-f011-229709f10c04"
      },
      "execution_count": null,
      "outputs": [
        {
          "output_type": "stream",
          "name": "stdout",
          "text": [
            "[b\"Readers of that preceding volume will recall how Dave Darrin and Dan Dalzell entered the United States Naval Academy, one appointed by a Congressman and the other by a United States Senator. Such readers will remember the difficult time that Dave and Dan had in getting through the work of the first hard, grinding year. They will also recall how Dave Darrin, when accused of treachery to his classmates, patiently bided his time until he, with the aid of some close friends, was able to demonstrate his innocence. Our readers will also remember how two evil-minded members of the then fourth class plotted to increase Damn's disgrace and to drive him out of the brigade; also how these two plotters, Midshipmen Henkel and Brimmer, were caught in their plotting and were themselves forced out of the brigade. Our readers know that before the end of the first year at the Naval Academy, Dave had fully reinstated himself in the esteem of his manly classmates, and how he quickly became the most popular and respected member of his class.\"\n",
            " b'\"That scoundrelly Chow made his boast that other midshipmen patronized his place. I don\\'t believe it. Such a vice wouldn\\'t appeal to you, and it doesn\\'t to me. But there are more than two hundred new plebes coming in just now, and many of these boys have never been away from home before. Some of them might foolishly seek the lure of a new vice, and might find the habit fastened on them before they were aware of it. Chow\\'s vile den might spoil some good material for the quarter-deck, and, as a matter of midshipman honor, we\\'re bound to see that the place is cleaned out right away.\"']\n",
            "[b'\"Just this,\" replied Pennington, hanging his head. \"I went into a drug store and asked a clerk that I know what was the best thing for toothache. He told me the best he knew was to smoke a pipe of opium, and told me where to find Chow Hop, and what to say to the chink. And it\\'s all a lie about opium helping a sore tooth,\" cried the wretched midshipman, clapping a hand to his jaw, \"for there goes that fiendish tooth again! But say! You fellows are not going to leak about my little mishap?\"'\n",
            " b'\"A very excellent reason, Mr. Darrin, and I commend you heartily for it. I shall also report your exemplary conduct to the commandant of midshipmen. You have, in my opinion, Mr. Darrin, displayed very good judgment, and you acted upon that judgment with promptness and decision. But I am afraid,\" continued the Navy captain dryly, \"that you have done something that will make you highly unpopular, for a while, with some of the members of your class.\"']\n",
            "[b'When Darrin and his seconds left the barn they went off to enjoy what remained of the shore leave. Pennington\\'s seconds finally, at his own request, left him at an ice cream parlor, where he proposed to remain until he could return to the big, steel \"Massachusetts\" without exciting any wonder over the little time he had remained ashore. Pennington had strength to walk about, but he was far from being in really good shape, and preferred to keep quiet.'\n",
            " b'\"Of course we can,\" jeered Dave Darrin. \"But what officer is fool enough to believe such a cock-and-bull story as this one will seem? At the very least, the commandant would believe that we had been playing some pretty stiff prank ourselves, in order to get treated in this fashion. No, no, fellows! We may just as well undeceive ourselves, and prepare to take the full soaking of discipline that we\\'re bound to get. If we attempted this sort of explanation, we\\'d be lucky indeed to get through the affair without being tried by general court-martial for lying.\"']\n",
            "[b'\"I don\\'t want to discourage any of you young gentlemen,\" continued the marine corps lieutenant. \"But there\\'s just about one chance in a thousand that we shall be able to sight and pick up any one of the unlucky three. In the first place, it would take a wonderful swimmer to live long in such a furious sea. In the second place, if all three are still swimming, it will be almost out of the question to make out their heads among the huge waves. You\\'ve none of you seen a man overboard before in a big sea?\"'\n",
            " b'\"Belle, we were pretty near sweethearts in the High School, I think,\" he went on, huskily, but looking her straight in the eyes. \"At least, that was my hope, and I hope, most earnestly, that it\\'s going to continue. Belle, I am a long way from my real career, yet. It will be five years, yet, before I have any right to marry. But I want to look forward, all the time, to the sweet belief that my schoolgirl sweetheart is going to become my wife one of these days. I want that as a goal to work for, along with my commission in the Navy. But to this much I agree: if you say \\'yes\\' now, and find later that you have made a mistake, you will tell me so frankly.\"']\n",
            "[b'\"But, seriously,\" Dan grumbled on, after a while, \"I\\'m aghast at what an exacting government expects and demands that we shall know. Just look over the list -- mechanical drawing and mechanical processes, analytical geometry, calculus, physics, chemistry, English literature, French and Spanish, integral calculus, spherical trigonometry, stereographic projection and United States Naval history! David, my boy, by the end of this year we\\'ll know more than college professors do.\"'\n",
            " b'\"Oh, that\\'s all right, David, little giant,\" returned Dalzell with an attempt at cheeriness. \"You mean well, but a fellow isn\\'t reported deficient unless he\\'s so far behind that the Board has his case settled in advance. From all I can hear it isn\\'t once in a camel\\'s age that a fellow so reported, and ordered before the Board, gets off with anything less than a hard, wet bilge. What I\\'m thinking of now is, what am I going to pick up as a career when I go home from here as a failure.\"']\n",
            "[b'\"Well, now, I want to think over that,\" confessed Freeman frankly. \"Of course, Dalzell\\'s record, this term, is in black and white, and can\\'t be gainsaid. It\\'s just possible our young friend can put up some line of talk that will extend his time here, and perhaps enable him to pull through. It\\'s a mighty important question, so I\\'ll tell you what we\\'ll do. Of course, the hop comes on for to-morrow night. Let me have until Sunday evening. Meanwhile I\\'ll talk with some of the other fellows of my class. You both come in here Sunday evening, and I\\'ll have the answer for you -- if there\\'s any possible way of finding one.\"'\n",
            " b'\"I am aware, sir, and gentlemen, that I am at present sufficiently deficient in my studies to warrant my being dropped,\" Dan began rather slowly. \"Yet I would call attention to the fact that I was nearly as badly off, in the matter of markings, at this time last year. It is also a matter of record that I pulled myself together, later on, and contrived to get through the first year with a considerable margin of credits to spare. If I am permitted to finish the present term here I believe I can almost positively promise that I will round out this year with as good a showing as I did last year.\"']\n",
            "[b'\"I believe, sir, that I make a much slower start, with new studies, than most of my classmates,\" Dan continued, speaking more rapidly now, but in a most respectful manner. \"Once I begin to catch the full drift of new studies I believe that I will overtake some of my classmates who showed a keener comprehension at the first. I think, sir, and gentlemen, that my record, as contrasted with the records of some of my classmates who achieved about the same standing I did for last year will bear my statement out.\"'\n",
            " b'\"It must be something fearful,\" said Mr. Stearns, who knew the junior officer\\'s inclination to be duty-mad. \"But, see here, if you make an official report you\\'ll force me to take action, even though it\\'s something that I\\'d secretly slap a midshipman on the shoulder for doing. No -- don\\'t begin to talk yet, Willow. Try a cigar and then tell me, personally, what\\'s worrying you. Then perhaps it won\\'t be altogether needful to make an official report.\"']\n",
            "[b'\"Perhaps I am joking,\" assented the officer in charge dryly, \"but I never lose sight of the fact that our Navy has been built up, at huge expense, as a great fighting machine. Now, Willow, it takes fighting men to run a fighting machine. Of course, I\\'m terribly shocked to know that two midshipmen really had the grit to fight -- but who were they! Mind you, I\\'m not asking you in an official way. This question is purely personal -- just between ourselves. Who were the men? And, especially, who was the fellow who lost the decision, and then had the utter effrontery to demand a second chance at once, only to win the second fight?\"'\n",
            " b\"On entering Mrs. Stearns' drawing room the next Sunday Mr. Darrin and Mr. Dalzell were introduced to two pretty girls. Miss Flora Gentle was a cousin of their hostess. She had visited Annapolis before, and, being pretty and vivacious, at the same time kind and considerate, she had many friends among the midshipmen. Marian Stevens, who had accompanied her on this visit, was a direct contrast. Flora was blonde. Marian was the dark, flashing type. She was spoiled and imperious, yet she had a dashing, open way about her that made her a favorite among young people.\"]\n",
            "[b'Christmas came and went, and soon after this the semi-annual examinations were on in earnest. Some of the midshipmen failed and sadly turned their faces homeward to make a place for themselves in some other lane of life. Dan Dalzell, however, made good his promise, and by a better margin than he had dared hope. Dave came through the examination somewhat better than his chum. Both felt assured now that they would round out the year with fair credit to themselves.'\n",
            " b\"In came a fiddler with a music book, and went up to the lofty desk and made an orchestra of it and tuned like fifty stomach-aches. In came Mrs. Fezziwig, one vast substantial smile. In came the three Misses Fezziwig, beaming and lovable. In came the six followers whose hearts they broke. In came all the young men and women employed in the business. In came the housemaid with her cousin the baker. In came the cook with her brother's particular friend the milkman. In came the boy from over the way, who was suspected of not having board enough from his master, trying to hide himself behind the girl from next door but one who was proved to have had her ears pulled by her mistress; in they all came, anyhow and everyhow. Away they all went, twenty couple at once; hands half round and back again the other way; down the middle and up again; round and round in various stages of affectionate grouping, old top couple always turning up in the wrong place; new top couple starting off again, as soon as they got there; all top couples at last, and not a bottom one to help them.\"]\n",
            "[b'But if they had been thrice as many -- oh, four times as many -- old Fezziwig would have been a match for them, and so would Mrs. Fezziwig. As to her, she was worthy to be his partner in every sense of the term. If that\\'s not high praise, tell me higher and I\\'ll use it. A positive light appeared to issue from Fezziwig\\'s calves. They shone in every part of the dance like moons. You couldn\\'t have predicted at any given time what would become of them next. And when old Fezziwig and Mrs. Fezziwig had gone all through the dance, advance and retire; both hands to your partner, bow and courtesy, corkscrew, thread the needle, and back again to your place; Fezziwig \"cut\" -- cut so deftly that he appeared to wink with his legs, and came upon his feet again with a stagger.'\n",
            " b'\"I would fain know if I am destined for so glorious a career,\" cried the Tree, rejoicing. \"That is still better than to cross the sea! What a longing do I suffer! Were Christmas but come! I am now tall, and my branches spread like the others that were carried off last year! Oh, were I but already on the cart. Were I in the warm room with all the splendour and magnificence! Yes; then something better, something still grander, will surely follow, or wherefore should they thus ornament me? Something better, something still grander, MUST follow -- but what? Oh, how I long, how I suffer! I do not know myself what is the matter with me!\"']\n",
            "[b'But the Tree did not rejoice at all; he grew and grew, and was green both winter and summer. People that saw him said, \"What a fine tree!\" and toward Christmas he was one of the first that was cut down. The axe struck deep into the very pith; the tree fell to the earth with a sigh: he felt a pang -- it was like a swoon; he could not think of happiness, for he was sorrowful at being separated from his home, from the place where he had sprung up. He knew well that he should never see his dear old comrades, the little bushes and flowers around him, any more; perhaps not even the birds! The departure was not at all agreeable.'\n",
            " b'The Tree only came to himself when he was unloaded in a courtyard with the other trees, and heard a man say, \"That one is splendid! we don\\'t want the others.\" Then two servants came in rich livery and carried the Fir-tree into a large and splendid drawing-room. Portraits were hanging on the walls, and near the white porcelain stove stood two large Chinese vases with lions on the covers. There, too, were large easy chairs, silken sofas, large tables full of picture-books, and full of toys worth hundreds and hundreds of crowns -- at least the children said so. And the Fir-tree was stuck upright in a cask that was filled with sand: but no one could see that it was a cask, for green cloth was hung all around it, and it stood on a large gayly coloured carpet. Oh, how the Tree quivered! What was to happen? The servants, as well as the young ladies, decorated it. On one branch there hung little nets cut out of coloured paper, and each net was filled with sugar-plums; and among the other boughs gilded apples and walnuts were suspended, looking as though they had grown there, and little blue and white tapers were placed among the leaves. Dolls that looked for all the world like men -- the Tree had never beheld such before -- were seen among the foliage, and at the very top a large star of gold tinsel was fixed. It was really splendid -- beyond description splendid.']\n",
            "[b'Now the Tree did not even dare tremble. What a state he was in! He was so uneasy lest he should lose something of his splendour, that he was quite bewildered amidst the glare and brightness; when suddenly both folding-doors opened, and a troop of children rushed in as if they would upset the Tree. The older persons followed quietly; the little ones stood quite still. But it was only for a moment; then they shouted so that the whole place reechoed with their rejoicing; they danced round the tree, and one present after the other was pulled off.'\n",
            " b'And the man told about Klumpy-Dumpy that tumbled down, who notwithstanding came to the throne, and at last married the princess. And the children clapped their hands, and cried out, \"Oh, go on! Do go on!\" They wanted to hear about Ivedy-Avedy, too, but the little man only told them about Klumpy-Dumpy. The Fir-tree stood quite still and absorbed in thought; the birds in the woods had never related the like of this. \"Klumpy-Dumpy fell downstairs, and yet he married the princess! Yes! Yes! that\\'s the way of the world!\" thought the Fir-tree, and believed it all, because the man who told the story was so good-looking. \"Well, well! who knows, perhaps I may fall downstairs, too, and get a princess as wife!\" And he looked forward with joy to the morrow, when he hoped to be decked out again with lights, playthings, fruits, and tinsel.']\n"
          ]
        }
      ]
    },
    {
      "cell_type": "markdown",
      "source": [
        "위에서 소개한 방식대로 이제 학습데이터와 평가데이터를 위한 데이터 파이프라인을 구성해보도록 합니다."
      ],
      "metadata": {
        "id": "OSjqC1Hftl-h"
      }
    },
    {
      "cell_type": "code",
      "source": [
        "# 학습 데이터셋 파이프라인\n",
        "raw_train_ds = (\n",
        "    tf.data.TextLineDataset(dir + \"simplebooks-92-raw/train.txt\")\n",
        "    .filter(lambda x: tf.strings.length(x) > MIN_TRAINING_SEQ_LEN)\n",
        "    .batch(BATCH_SIZE)\n",
        "    .shuffle(buffer_size=256)\n",
        ")\n",
        "\n",
        "# 평가 데이터셋 파이프라인\n",
        "raw_val_ds = (\n",
        "    tf.data.TextLineDataset(dir + \"simplebooks-92-raw/valid.txt\")\n",
        "    .filter(lambda x: tf.strings.length(x) > MIN_TRAINING_SEQ_LEN)\n",
        "    .batch(BATCH_SIZE)\n",
        ")"
      ],
      "metadata": {
        "id": "NsRr5pH5hGqd"
      },
      "execution_count": null,
      "outputs": []
    },
    {
      "cell_type": "markdown",
      "source": [
        "위와 같이 데이터셋 파이프라인을 정의하면 다음과 같은 데이터 인스턴스를 확인할 수 있습니다."
      ],
      "metadata": {
        "id": "BYfK0VbSuVLz"
      }
    },
    {
      "cell_type": "code",
      "execution_count": null,
      "metadata": {
        "id": "NOcl63iC9I6L",
        "colab": {
          "base_uri": "https://localhost:8080/"
        },
        "outputId": "8efbcd8b-9907-4f8b-a03d-0bd76e6a5f30"
      },
      "outputs": [
        {
          "output_type": "execute_result",
          "data": {
            "text/plain": [
              "<tf.Tensor: shape=(64,), dtype=string, numpy=\n",
              "array([b\"I have only heard of those days. But I should have liked to have seen the bluff kind faces above the stiff stocks and scarlet coats, and the joyous smiles which shone upon them. I should have liked to have heard the quiet town ringing with such blithe laughter. Little jokes would cause the people to laugh, as little accidents would cause them to shake their heads. Sandy Hope's horse, for instance, lost a shoe while at the gallop, stumbled, and threw its rider, dislocating his shoulder, and breaking his arm. What a sensation the news created! It could scarcely have been greater even though Sandy's brains had been dashed out. Not only Sandy himself, but Sandy's kindred to the remotest degree, were deeply commiserated. The commanding officer sent his compliments every morning with inquiries after him. The troop doctor was besieged by anxious acquaintances. Sandy's comrades never ceased calling upon him, and sat for hours drinking beer at his open window. Delicious messes and refreshing drinks a thousand times better than beer, were sent to Sandy. Then the nosegays, the books he got! Sandy received a perfect ovation. It was even proposed that the ball should be put off because Sandy was lying in pain; and it was certain that no fewer than three reputed sweethearts of Sandy's stayed at home on the ball night. Yet the stupid fellow was so slightly hurt, that within the fortnight he was walking the streets of Priorton more briskly than ever!\",\n",
              "       b'Priorton was kindly in its gaiety, and each had an interest in the other. I should have liked to have known the old town when it was thus given up for ten days, half to military exercises, half to fraternity and feasting. I should have been sorry when the feasting was intemperate, but I would no more have condemned the general feasting because of that circumstance, than I would condemn the gift of speech because some of us are so left to ourselves as to tell lies or say bad words.',\n",
              "       b'Mrs. Spottiswoode was a showy, smart, good-humoured woman, but not over-scrupulous. She was very ready at adapting herself to circumstances, even when the circumstances were against her. For that reason she was considered very clever as well as very affable, among the matrons of Priorton. Mr. Spottiswoode was \"slow and sure:\" it was because of the happy alliance of these qualities in him that the people of Priorton had elected him chief magistrate.',\n",
              "       b'\"Oh, I\\'ll take care of that,\" answered the lady, with a laugh and a toss of her ribbons; \"I shall have some other girl of my acquaintance to bear Corrie company; -- some worthy, out-of-the-way girl, to whom the visit will be like entering another world,\" continued Mrs. Spottiswoode, with a twinkle of her black eyes. \"What do you think of Corrie and my cousin Chrissy Hunter, of Blackfaulds? The Hunters have had such a deal of distress, and so much fighting with embarrassment -- though I believe they are getting clearer now -- that the poor lassie has had no amusement but her books, and has seen absolutely nothing.\"',\n",
              "       b'The invitations were dispatched, and accepted gratefully. The guests arrived before Bourhope occupied his quarters; ostensibly they came so soon to prepare for him. Corrie had nothing Roman about her except her name, Cornelia. She was a tall, well-made, fair-faced, serene beauty; the sole remaining maiden daughter of a Scotchman who had returned from the Indies with a fortune, as so many returned then. He had already endowed Mrs. Spottiswoode with a handsome \"tocher,\" and since his marriage had settled within five miles of Priorton. Chrissy, again, was one of a large, struggling family; a small girl, a very little crooked in figure, and with irregular features, and a brown complexion. If she had not possessed a bright, intelligent expression, she would certainly have been plain -- as indeed she was to those who did not heed expression. It was a delightful chance to Chrissy, this brief transplanting into the flourishing, cheerful town-house, amid the glowing gaiety of the yeomanry weeks. Accordingly she was constantly engaged in checking off every little detail on the finger-points of her active mind, in order that she might be able to describe them to her secluded sisters and her sick mother at home. She was determined not to miss one item of interest; never to sleep-in so as to lose the mount; never to stray in her walks and fail to be in the house for the return of the afternoon drill. She would pace the meadows among the gay promenaders, even when the evening was cloudy, and would not care though she walked alone. She would enjoy the play when Mrs. Spottiswoode chose to take her, and not even object to a squeeze in the box. The squeeze was really part of the fun! But she did not care to have her attention distracted from the stage, even by the proffers of fruit from the Yeomen. As to the ball, she did not allow herself to think much of that. Who would ever have dreamt of Chrissy figuring at a fine yeomanry ball! She would not trouble herself because she wore an old worked white frock of her mother\\'s, taken up by tucks to suit her, and yellowed by frequent washing and long keeping. She would not fret because she could not spend money upon a hair-dresser. She must dress her own hair -- which was scanty, like every other outward adornment of hers. This was little matter, she reflected, for it would not dress under the most skilful artist into those enormous bows on the crown of the head which everybody then wore -- it would only go into comb-curls like little hair turrets on each side of her round, full forehead, which was by no means scanty. She had no ornaments in the way of jewellery, save a coral necklace; while Corrie had a set of amethysts -- real amethysts -- ear-rings, brooch, and necklace, and a gold cross and a gold watch, which she rarely wound up, and which was therefore, as Chrissy said, \"a dead-alive affair.\" But Corrie was a beauty and an heiress, and ornaments became her person and position; while on Chrissy, as she herself admitted with great good sense, they would only have been thrown away. And what did Chrissy care for her appearance so long as her dress was modest and neat? She could walk about and listen to the ravishing music, and study the characters she saw, from Corrie up to the Countess, wife of the one earl who came to Priorton, and who was Colonel of the yeomanry. The day or two before the Yeomanry arrived was spent by the two girls in walking about, shopping and making calls. Corrie, though a beauty, proved herself a very dull companion for another girl to walk with. Very pretty to look at was Corrie in a fair, still, swan-like style of beauty; and she had a great many pretty dresses, over which she became a little more animated when Chrissy, as a last resource and for their relief, would ask her to turn them over and show them again. Corrie, of course, never dreamt of offering poor Chrissy a loan of any of those worked pelerines or aprons, which would have fitted either equally well. But Chrissy did not want them, and she got a use out of them as they were brought out one by one and spread before her. Ere the Yeomanry came, Chrissy knew the stock by heart, and could have drawn them, and cut out patterns and shapes of them, and probably did so, the little jade, when she got home.',\n",
              "       b\"Bourhope came with his fellows, and was more specially introduced to Corrie and Chrissy. He had had some general acquaintance with both of them before. He gallantly expressed his pleasure at the prospect of having their society during his stay at Priorton. He was a farmer whose father had made money at war prices. He had bought his own farm, and thus constituted his son a small laird. He had an independent bearing, as well as an independent portion of the world's goods; he was really a manly fellow in his brown, ruddy, curly, strapping comeliness. But better still, Bourhope was an intelligent fellow, who read other things than the newspapers, and relished them. He was a little conceited, no doubt, in consequence of comparing himself with others, but he had a good heart. Corrie and Chrissy both regarded him with scarcely concealed interest and admiration. Chrissy wished that the lads at home would grow up to be as comely and manly; Corrie made up her mind to have just such a husband as Bourhope.\",\n",
              "       b\"It was evident the very first night that Bourhope was taken with Corrie. He stared and stared at her, admiring her waxen complexion, the bend of her white throat, and the slope of her white shoulders; and even changed his seat at one time, as it seemed, in order to see her better. He quickly claimed her as his partner at loo, and engaged her to walk out with him to hear the band practising next evening. Chrissy thought it all very natural, and all the more enjoyable. But she caught herself fancying Bourhope and Corrie married, and rebuked herself for carrying her speculations so far. Only she could not help thinking how Bourhope would weary after the marriage -- say when there was a snow-storm, or a three days' fall of rain at the farmhouse. But that was Bourhope's affair; if he was pleased, what business was it of hers? Bourhope had this in common with Chrissy: he could entertain himself.\",\n",
              "       b\"During the first three days of the week, Bourhope was zealous in looking at, and attaching himself to, Corrie. But a sharp observer might have remarked that after that he flagged a little, taking more as a matter of course and politeness the association he had established between her and him at tea, loo, and the evening promenade. He would even stifle a yawn while in Corrie's company, though he was a mettlesome and not a listless fellow. But that was only like men, to prize less what they had coveted when it was half won.\",\n",
              "       b\"So for a short time matters stood. Corrie, fair and swan-like, Bourhope reasonably impressionable, Mr. and Mrs. Spottiswoode decidedly favourable, Chrissy Hunter harmless, if not even helpful. Mrs. Spottiswoode knew that those who dally with a suggestion are in great danger of acting on it, and had very little doubt that the next ten days' work, with the crowning performance of the ball, would issue in deciding the desirable match between Bourhope and Corrie.\",\n",
              "       b\"At this juncture it struck Bourhope, riding home from the morning drill, to ask himself what could possibly take Chrissy Hunter out so early every morning. He had already seen her once or twice, keeping out of the way of him and his companions, and returning again from the opposite end of Priorton, which was flanked by the doctor's house. Corrie, he noticed, was never with her. Indeed, Bourhope had a strong suspicion that Corrie retreated to her pillow again after showing him her lovely face -- lovely even in the pink curl-papers. But Chrissy certainly dressed immediately, and took a morning walk, by which her complexion at least did not profit. Not being a very strong little woman, her brown face was apt to look jaded and streaky, when Bourhope, resting from the fatigues of his drill, lounged with the girls in the early forenoon in Mrs. Spottiswoode's drawing-room. So it was worth while, he thought, to spur up to Chrissy, and inquire what took her abroad at such an untimely hour.\",\n",
              "       b'When Bourhope caught a nearer glimpse of Chrissy he was rather dismayed to see that she had been crying. Bourhope hated to see girls crying, particularly girls like Chrissy, to whom it was not becoming. He had no particular fancy for Cinderellas or other beggar-maids. He would have hated to find that his kinsfolk and friendly host and hostess, for whom he had a considerable regard, were mean enough and base enough to maltreat a poor little guest of their own invitation. Notwithstanding these demurs, Tom Spottiswoode of Bourhope rode so fast up to Chrissy as to cause her to give a violent start when she turned.',\n",
              "       b'Chrissy was taken aback, and there was something slightly hysterical in her laugh, but she answered frankly enough, \"I go to Dr. Stark\\'s, Mr. Spottiswoode. Dr. Stark attends my mother, and is at Blackfaulds every day. I wait in his laboratory till he comes there before setting out; he goes his rounds early, you know. He lets me know how mother was yesterday, and as he is a kind man, he carries our letters, -- Maggie and Arabella and I are great writers, and postage comes to be expensive -- a great deal too expensive for us at Blackfaulds; but the doctor is a kind man, and he \\'favours\\' our letters. And Mr. Spottiswoode,\" she said, warming with her subject and impelled to a bit of confidence, \"do you know, Dr. Stark thinks my mother will be about again in a few months. You are aware her knee-joint has been affected. We were even afraid she would never put down her foot again. It would have been a dreadful trial for all of us.\" Chrissy spoke simply, in a rather moved voice.',\n",
              "       b\"Chrissy was grateful for his evident sympathy, and gratified by it; but, as if half ashamed of having elicited it, she at once began to prattle to him on other subjects. Bourhope had leapt from his horse, and was doing Chrissy the honour of walking at her side, his beast's bridle over his arm, and his spurs ringing on the pavement. A sparkling prattle that was of Chrissy's about the fine morning, the town, and the yeomanry -- few topics, but well handled and brilliantly illustrated. Bourhope had dared to confess to himself how sorry he was when he reached Mr. Spottiswoode's door.\",\n",
              "       b\"Next morning Bourhope detached himself from his comrades when he approached the town, and looked narrowly for Chrissy. It would be but civil to inquire for poor Mrs. Hunter. So bent was he on being thus civil, that though Chrissy was far in advance, he knew her by the pink gingham trimming of her morning bonnet, fluttering like rose-leaves in the morning sun. He came up to her, and politely asked after her mother. Chrissy was a little confused, but she answered pleasantly enough. She was not nearly so talkative, however, as on the preceding morning, though Bourhope made witty comments on the letter she held in her hand, and pertinaciously insisted on her telling him whether she mentioned him in her return letters! He reminded her that they were cousins in a way. This was the first time Chrissy had known of any one hunting up a relationship with her; and though pleased in her humility -- Chrissy was no fool in that humility of hers -- Bourhope, she knew, was destined for her cousin Corrie. He was out of Corrie's way just now, and was only courteous and cordial to her as living for a time under the same roof. She liked the ruddy, curly, independent, clever fellow of a farmer laird, who, out of the riches of his kindness, could be courteous and cordial to a poor plain girl. Bourhope could never overtake Chrissy coming from Dr. Stark's again. He spied and peeped and threw out hints, and hurried or loitered on the way to no purpose. Chrissy took care that people should not notice the fact of her being escorted home in the early morning by Bourhope.\",\n",
              "       b'A chance conversation between Mrs. Spottiswoode and Corrie was overheard one day by Bourhope, when they imagined him deep in \"Blackwood;\" for it was the days of the \"Noctes.\" Mr. Hunter, of Redcraigs, Corrie\\'s father, had not been well one day, and a message had been sent to that effect to her. But Corrie was philosophic, and not unduly alarmed. \"Papa makes such a work about himself,\" she said candidly to Mrs. Spottiswoode. \"Very likely he has only taken lobster at supper, or his Jamaica rum has not agreed with him, and he is bilious this morning. I think I will send out a box of colocynth, and a bit of nice tender veal, to put him in good humour again. You know, Agnes, if I were to drive out, I would not get back in time for the evening walk in the meadows. Besides, I was to see Miss Aikin about the change in the running on of my frills. It would overturn all my plans to go, and my head gets so hot, and I look so blowsy, when my plans are disarranged,\" Corrie concluded, almost piteously.',\n",
              "       b'\"Yes, but Corrie,\" hesitated Mrs. Spottiswoode, \"you know Dr. Stark is not easy about papa just now. I think I had better go out myself. It is unlucky that Spottiswoode is to have several other yeomen who do business at the Bank, at dinner to-day with Bourhope; but I dare say Mary will manage that, as Chrissy will mix the pudding for her. So I will go myself to Redcraigs; all things considered, it would be a pity for you not to be in your best looks --  -- \"',\n",
              "       b\"The day unluckily turned out very rainy, and the drill was gone through in a dense white mist, which caused every horse to loom large as an elephant, and every rider to look a Gog or Magog. The young ladies, so fond of a change of costume at this time in Priorton, could do no shopping; the walk in the meadows at sunset with the lounging yeomen had to be given up. The green meadows were not inviting, the grass was dripping, the flowers closed and heavy, the river red and drumly. All was disappointing; for the meadows were beautiful at this season with their summer snow of daisies -- not dead-white snow either, for it was broken by patches of yellow buttercups, crow's-foot, lady's-finger, and vetch, and by the crimson clover flowers and the rusty red of sorrel, and the black pert heads of the nib-wort plaintain, whose black upon the white of ox-eye daisies has the rich tone of ermine.\",\n",
              "       b\"Instead of walks, there were gatherings round shining tables; and bottles and glasses clinked cheerily in many a parlour. But Mr. Spottiswoode was sober by inclination. The impressiveness of office, which had quite the contrary effect on many provosts of his era, only added to his characteristic caution. The yeomen, too, knew well where hilarity ended and excess began. So there was little fear of excess in Mr. Spottiswoode's house. Mrs. Spottiswoode, a genius in her own line, had a cheerful fire in her drawing-room, and sat by the hearth with her children tumbling round her, while Corrie, fairer than ever in the blinking fire-light, and Chrissy, brown and merry, sat on either side of her. She invited the farmer laird to enter that charmed ring, which, of course, he could not help contrasting with the loneliness and comfortlessness of Bourhope. But though Bourhope sat next Corrie, a certain coldness crept over the well-arranged party. He caught himself glancing curiously at the book Chrissy Hunter had been almost burning her face in reading by the fire-light before he came in. Mrs. Spottiswoode did not much care for reading aloud, but she took the hint in good part, and called on Chrissy to tell what her book was about, and so divert Bourhope without wholly monopolizing his attention.\",\n",
              "       b'Chrissy was rather shy at first. She never told stories freely away from home; but she was now pressed to do it. After a little, however, she put her own sympathetic humour and pathos into the wondrous narrative, till she literally held her listeners spell-bound. And no wonder. Those were the days of Scott\\'s early novels, when they were greatly run after, and the price of a night\\'s reading was high. Chrissy\\'s cousin \"Rob\" was a bookseller\\'s apprentice, and his master, for the purpose of enabling Robbie to share his enthusiasm, would lend the apprentice an uncut copy. Robbie brought it out to Blackfaulds, and then all would sit up, sick mother among the rest, to hear them read aloud, till far into the small hours.',\n",
              "       b'How suggestively Chrissy discoursed of Glendearg, and the widow Elspeth Glendinning, her two lads, and Martin and Tib Tacket, and the gentle lady and Mary Avenel. With what breadth, yet precision, she reproduced pursy Abbot Boniface, devoted Prior Eustace, wild Christie of the Clinthill, buxom Mysie Hopper, exquisite Sir Percy Shafton, and even tried her hand to some purpose on the ethereal White Lady. Perhaps Chrissy enjoyed the reading as much as the great enchanter did the writing. Like great actors, she had an instinctive consciousness of the effect she produced. Bourhope shouted with laughter when the incorrigible Sir Percy, in the disguise of the dairywoman, described his routing charge as \"the milky mothers of the herd.\" Corrie actually glanced in affright at the steaming windows and the door ajar, and pinched Chrissy\\'s arm when she repeated for the last time the words of the spell: -- ',\n",
              "       b'The assembly paid Chrissy the highest compliment an assembly can pay a speaker. They forgot their schemes, their anxieties, themselves even, to fasten their eyes and hearts on the brown girl -- the book dropping from her hand, but the story written so graphically on her memory. Corrie was the first to recover herself. \"Oh dear!\" she cried, \"I have forgot I was to take down my hair for Miss Lothian to point it at eight o\\'clock,\" and hurried out of the room.',\n",
              "       b'Mrs. Spottiswoode roused herself next, and spoke a few words of acknowledgment to Chrissy. \"Upon my word, Chrissy, your recital has been quite as good as the play. We are much obliged to you. I am afraid your throat must be sore; but stay, I have some of the theatre oranges here. No, bairns, you are not to have any; it is far too late for you to be up. Dear me; I believe you have been listening to Chrissy\\'s story like the rest of us!\" But Mrs. Spottiswoode was not under any apprehension about the success of Chrissy\\'s reading. Mrs. Spottiswoode proved this by immediately leaving Chrissy t\\xc3\\xaate-\\xc3\\xa0-t\\xc3\\xaate with Bourhope while she went to put the children to bed, and see if Mr. Spottiswoode, who was doing a quiet turn of business in his office, would have a game of cards before supper. She had really never heard of a girl being married simply for her tongue\\'s sake! She perhaps knew the line in the song too -- ',\n",
              "       b'Bourhope, it should be understood, was longest subjected to the influence of Chrissy\\'s story-telling power. Indeed, when he did somewhat recover from it, his fancy created fine visions of what it would be to have such a storyteller at Bourhope during the long, dark nights of winter and the endless days of summer. Bourhope was no ignoramus. He had some acquaintance with \"Winter\\'s Tales\" and summer pastorals, but his reading was bald and tame to this inspiration. He thought to himself it would really be as good as a company of players purely for his own behoof, without any of the disadvantages. He stammered a little in expressing the debt he owed to Chrissy, and she could only eagerly reply by saying, \"Not to me, not to me the praise, Mr. Spottiswoode, but to the great unknown. Oh! I would like to know him.\"',\n",
              "       b\"Bourhope, although he was decidedly intellectual for his calling, watched Chrissy rather than the stage. He read the feeling of the moment reflected in her sagacious yet sensitive face. Once he turned round and tried the same experiment with Corrie. He might as well have expected to borrow a living soul from well-moulded stucco or marble. He now realized in a more lively manner than ever, that geese may look fair and white and soft and shapely as swans till they expose their waddling. He tried in church the process he had learned at the play, and, it must be confessed, not without effect -- Chrissy's expression giving a fair notion of the good Priorton minister's earnestness and eloquence.\",\n",
              "       b\"But at length Chrissy, aware of the liberty Bourhope took in thus making her his study, got restless and troubled in her sound head and warm heart. She was no fool in her simplicity. She knew that Bourhope did not in any sense belong to Mrs. Spottiswoode and Corrie, and she had shrewdly suspected of late that their anticipated arrangements would not be carried out. She could not help occasionally turning over in her mind the circumstance that Cecilia was very plain, but that depressed Mortimer Delville nevertheless bestowed his heart on her, though the gift, like her fortune, was disastrous to Cecilia for many a long day. Chrissy thought that if Bourhope were independent and original enough to like her -- to love her -- he was his own master; there was nothing between him and his inclination save her inclination and her father and mother's will. And there was little doubt about father and mother's will with respect to a man so worthy, so unexceptionable, and so well endowed as Bourhope.\",\n",
              "       b\"A dream of love was a grand shock to Chrissy's quiet life, making wild yet plaintive music, like all nature's true harmonies, within her, and filling her mind with tremulous light which glorified every object, and was fain even to dazzle herself. It was not unnatural that Bourhope should excite such a dream. But Chrissy was not completely dazzled. It was only a dream as yet, and she would be the mistress of her dream; it should not be the mistress of her. So she resolved, showing herself a reasonable, thoughtful, conscientious woman, as well as a loving, fairly proportioned, and lovely human spirit.\",\n",
              "       b\"Chrissy retained all her sober senses. She recollected what was due both to the hero and to the others concerned. She was neither a weak victim, nor a headstrong, arrogant, malicious conqueror. Like all genuine women, she struggled against yielding herself without her due -- without a certainty that there was no irreversible mistake in the matter. She was not a girl to get love-sick at the first bout, nor one to run even at a worthy lover's beckoning, though she would sacrifice much, and do it proudly, joyously, for true affection, when once it had confessed itself. So she shrank from Bourhope, slipped away from, and managed to avoid him. He was puzzled and vexed, and almost exasperated by doubts as to whether she cared for or wished to accept his notice and regards. Little brown Chrissy taught the bold Yeoman a lesson in her own quiet way. She slowly forced upon him the conviction that any gifts or attainments of his -- the prosperous, cultivated farmer laird -- were as dross compared with the genius and acquirements of Chrissy Hunter, whom many short-sighted men called insignificant and plain amid the poverty and cares of Blackfaulds. Bourhope was not radically mercenary: he had no certainty that his superiority in worldly estate would secure the strange good upon which he set his heart, and he was at once stimulated and incensed by her indifference to his advances. So he had no communication with Chrissy, apart from a demure interchange of words in general conversation, for three days before the grand review and the ball, except in a single incident of the pipe-claying of his belts.\",\n",
              "       b'The gentlemen of the old yeomanry who had not servants to do it for them, did their own pipe-claying, and might generally be seen doing it very indifferently to the accompaniment of private whistling or social bawling to each other over adjacent walls in the back courts and greens of Priorton. Bourhope was one day doing his rather gloomily in the back court, and succeeding very ill, when Chrissy, who saw him from a window, could endure it no longer. Chrissy was not what most intellectual women are described as being -- an abstracted, scared being, with two left hands. The exigency of her situation as eldest daughter at Blackfaulds had rendered her as handy as other girls, and only unlike them in being a great deal more fertile in resource. How could such a woman stand and see Bourhope destroying his accoutrements, and in danger of smearing himself from head to foot with pipe-clay? Chrissy came tripping out, and addressed him with some sharpness -- \"That is not right, Mr. Spottiswoode; you will never whiten your belt in that way, you will only soil the rest of your clothes. I watched the old sergeant doing it next-door for Major Christison. Look here:\" and she took the article out of his hands, and proceeded smartly to clean it. Poor Bourhope bowed to her empire, though he would much rather their positions had been reversed: he would rather a thousand times have brushed Chrissy\\'s shoes than that she should clean his belt. She was gone again the moment she had directed him. A portion of his belt was now as white as snow; but nothing would have induced her to stay.',\n",
              "       b'Bourhope was new to the humiliations as well as the triumphs of love -- that extreme ordeal through which even tolerably wise and sincere spirits must pass before they can unite in a strictness of union deserving the name. He was not exactly grateful for the good suggestion; indeed, he had a little fight against Chrissy in his own breast just then. He told himself it was all a whim, he did not really care for the girl -- one of a large family in embarrassed circumstances. No, it would be absurd to fall in love with a little coffee-coloured girl whose one shoulder was a fraction of an inch further out than the other. He was not compelled to marry either Corrie or Chrissy -- not he! Poeh! he was not yet half through with his bachelor days. He would look about a little longer, enjoy himself a little more. At the word enjoyment Bourhope stopped short, as if he had caught himself tripping. If Chrissy Hunter was ugly, she was an ugly fairy. She was his fate, indeed; he would never see her like again, and he would be a lost and wrecked man without her.',\n",
              "       b'The review, for which all the drilling had been undertaken, went off without serious effect on the contesting parties. The only thing was, that Bourhope was so disturbed and so distracted in his mind that he could not attend to orders, and lost his character as a yeoman, and all chance of being future fugleman to his corps. And this, although the Major had said, when the drills began, that there was not a finer man or more promising dragoon than Bourhope in the regiment.',\n",
              "       b\"Chrissy's bright, tranquil satisfaction in contemplating, from the box of Mrs. Spottiswoode's phaeton, the stand of county ladies, with their gorgeousness and grace, was decidedly impaired. The review, with its tramping and halting, its squares and files, its shouting leaders, galloping aides-de-camp, flashing swords and waving plumes, was certainly very fine. All the rest of Priorton said so and proved so, for they stood or sat for a whole day witnessing it, under a scorching sun, on foot, and in every description of vehicle from a corn-cart to a coroneted carriage. Yes, the review was very fine to the mass; but it was only a confused, hollow, agitating play to Chrissy as to Bourhope. Still she lost sight of the grand general rank and file, by concentrating her regard on one little scarlet dot. It was to her a play with its heart a-wanting, and yet the whirl and movement were welcome for a moment as substitutes for that heart.\",\n",
              "       b'The ball remained, and Bourhope was resolute it should settle the question for him. It was the commendable fashion at Priorton that no young lady should refuse to dance with an acquaintance without the excuse of a previous engagement, under the penalty of having to sit the rest of the night. Bourhope would get Chrissy to himself that night (balls were of some use, after all, he thought), and have an opportunity of hearing a terribly decisive word, and of getting a reason for that word too, should it prove unfavourable. In short, he would storm the fortress, and beat down its faltering guard then or never.',\n",
              "       b\"Others besides Bourhope had determined on making the ball a theatre of explanations. Mrs. Spottiswoode was not pleased with the aspect of things as between Bourhope and Corrie. Their affair made no advance, and the ball was the conclusion of the yeomanry weeks. The yeomen were already to all intents and purposes disbanded, and about to return, like Cincinnatus, to their reaping-hooks. Corrie was evidently not contented. She was listless and a little peevish, unless when in the company of other yeomen than Bourhope -- a rare thing with Corrie, who was really a very harmless girl. But she looked elegant in her ball dress, and had always a train of admirers on such occasions. And then, of course, many men needed the spur of jealousy to induce them to take the bold leap of matrimony. Chrissy, too, had her own fears and doubts about this ball. Bourhope hitherto had only pursued her, if he had pursued her, in rather a secret manner. She would now see how he would treat her on a public occasion. His conduct would then be marked and conspicuous, and even Mrs. Spottiswoode's and Corrie's eyes would be opened to it. Then, again, he would have an opportunity of contrasting her personally with all the girls about Priorton. Chrissy gazed wistfully into the glass as she fastened her yellow scrimp old white frock, and sighed. But she did not look so much amiss as she supposed: she was young, slight, and full of subtle character. And with her scarlet coral beads twisted among her dark little turret curls and bows, there was piquancy and attraction in Chrissy. But her first purely disinterested and unbounded pleasure in the gaiety was grievously chequered, and it was to be feared the account she would carry home of her first ball to expectant Blackfaulds would be disappointing.\",\n",
              "       b'There were only two chaises in repair in Priorton, to convey the whole townspeople in rotation to the ball. It was thus unavoidable that some should be very early, as well as some very late. Mr. Spottiswoode, as Provost, was of course among the first after the Colonel and his lady, old country people, who stood arm-in-arm, bluff and bland, under the evergreens over the door, and shook hands with everybody, great and small -- a family of pretty girls meanwhile laughing behind them.',\n",
              "       b'A strange thought came over Chrissy. She did not wish Corrie, in her white crape and French ribbons, and so tall and straight and fair, to be blighted in her beauty -- no, not for a moment. But Chrissy was cruel enough to cherish a passing wish that, by some instantaneous transformation, Bourhope might be pitted with smallpox, or scarred with gunpowder, or have premature age brought upon him as with the wave of a wand -- the soul within being left unchanged, however.',\n",
              "       b'Mrs. Spottiswoode, unlike Chrissy, was quite alive to the practical. She remarked everything with keen eyes, and determined now to be at the bottom of the business. She should either go in and win triumphantly, or take a sudden tack and sail away with flying colours, as if she had never entertained the most distant intention of coming to close quarters, and thus give the impression that she never had any intention of promoting a match between Bourhope and Corrie.',\n",
              "       b\"Mrs. Spottiswoode thought Bourhope looked as if he were going to do something desperate. His first blunder had been to hand, or rather lift, Chrissy into the chaise instead of Corrie, at starting from their own door. He repeated the unaccountable blunder at the County Rooms, which compelled him to take Chrissy into the ball-room; and while Chrissy was still gazing in bewilderment and admiration at the evergreens and chalked floors, and talking, laughing couples, Mrs. Spottiswoode could scarcely believe her ears when she distinctly heard Bourhope ask Chrissy's hand for the first dance, saying that he would have engaged it before if he had got the opportunity.\",\n",
              "       b'Now Mrs. Spottiswoode had no doubt that Bourhope would solicit her sister Corrie for this dance, and therefore she had peremptorily forbidden Corrie to engage herself in any other quarter, even when Corrie had demurred at the certainty of the arrangement. It was very odd of Bourhope, unless he thought Chrissy would have no chance of any other partner, and wanted to spare a plain little girl\\'s mortification at the very commencement of the evening. \"That must be it,\" Mrs. Spottiswoode said to herself, and was consoled by Corrie\\'s hand being immediately requested for the Colonel\\'s nephew.',\n",
              "       b\"The Colonel's wife opened the ball with the most popular and oldest private for partner, and, of course, Chrissy and Bourhope stood below Corrie and the Colonel's nephew. But Bourhope and Chrissy did not mind Corrie's precedence, and were talking to each other quite intimately. Bourhope was forgetting the figure and bending across to Chrissy, though he was saying nothing particular, and speaking out quite loud. But he looked engrossed and excited. If it had been any other girl but Chrissy, Mrs. Spottiswoode would have called it a flirtation, and more than a flirtation. Chrissy looked well in her shabby dress, almost pretty indeed, in the new atmosphere. Mrs. Spottiswoode was aggrieved, disgusted in the first instance, but she would not just yet believe such an incredible contradiction to her well-laid scheme. Match-making involves so many parties, there are such wheels within wheels of calculation and resource. She glanced at Corrie, who was dancing very complacently with the Colonel's nephew, and exchanging passing words with yeomen who tried to get speech with her. In her white crape, and teeth as white, and her dimples, she was safe, heart-whole and prosperous -- a beauty who might pick and choose a suitable husband, even though Bourhope, infatuated, threw himself away.\",\n",
              "       b'Mrs. Spottiswoode read these comments as well as what had gone before, and was ready with her magnanimity. It was this which constituted her a truly able tactician. She shifted her tack before the shout of malicious exultation and ridicule could have been raised at her discomfiture. By a dexterous sleight of hand, she shuffled her cards and altered her suit. In a moment Mrs. Spottiswoode was winking and nodding with the matrons interested in the news of the night. She arrested a good-humoured yeoman, and crossed the room on his arm, to express and receive congratulations. \"You have found out the secret? Foolish fellow, Bourhope; he cannot conceal his feelings, though their display is premature. I must scold him for exposing himself and her. Poor dear! she is not accustomed to this sort of thing. But I am so delighted -- so nice, isn\\'t it? Such an excellent marriage for my cousin Chrissy -- a good girl, a very clever girl -- such a fortunate beginning for the Blackfaulds family. I often say the first marriage makes or mars a family of girls. It is so lucky that I invited Chrissy for the yeomanry weeks this summer. It is a great deal better than if it had been Corrie, because Corrie can wait,\" with a careless wave of her hand in the direction in which Corrie moved, deliberately followed by her train. \"Corrie has too many admirers to make up her mind speedily, yet she takes it all very quietly. But this is so appropriate -- Mr. Spottiswoode\\'s cousin and my cousin -- nobody could have planned it better.\"',\n",
              "       b'She turned round, and heard a blunt booby of a farmer speaking out his mind. She at once took him up -- \"You would not have thought it? You cannot comprehend what has come over Bourhope, or what he sees in that thin, yellow mite, Miss Hunter of Blackfaulds, even though she were as good as a saint, and as wise as the Queen of Sheba? Oh! come, Balquin, you do not allow sufficient latitude to goodness and cleverness. I tell you, Bourhope has neither eyes nor ears for anybody but that mite; he counts his colourless daisy far before the gayest painted face. He knows that we are remarking on them now, and he is holding his head as high as if he had sought and won a queen. He is right; she will prove a sensible, cheerful wife to him. Bourhope will have the cleverest, best wife in the county, for all your swaggering. And that is something, when a man comes to be old and has an old wife like me. Not old, Balquin? away with you. I wish the Provost heard you. Do you think to flatter me because I am in spirits about my cousin\\'s match? No, it is not lost that a friend gets, Balquin.\"',\n",
              "       b\"The speakers in the old drawing-room of Newton-le-Moor, in the south country, thirty years ago, were Mr. Baring and his daughter Diana. He was a worn and dissipated-looking man, with a half-arrogant, half-base air -- implying a whole old man of the world of a bad day gone by. He was flawless in his carving, his card-dealing, his frock-coat and tie: corrupt to the core in almost everything else. She was a tall, full-formed woman, in her flower and prime, with a fine carriage and gait, which rendered it a matter of indifference that she wore as plain and simple a muslin gown as a lady could wear. Her hair was of the pale, delicate, neutral tint which the French call blond-cendr\\xc3\\xa9, a little too ashen-hued for most complexions. It was not wavy hair, but very soft and pure, as if no atmosphere of turmoil and taint had ruffled or soiled it. It made Miss Baring's fresh, clear complexion a shade too bright in the carmine, which took off the greyness of the flaxen hue and relieved the cold and steel-like gleam in her grey-blue eyes. The features of the face were fine and regular, like Mr. Baring's; but instead of the handsome, aristocratic, relentless aquiline nose, which was the most striking feature in the gentleman's face, the lady's was a modified Greek nose, broad enough at the base slightly to spoil its beauty but largely to increase its intellectual significance.\",\n",
              "       b'The \"he\" of the conversation, who was not to last ten years, was Gervase Norgate of Ashpound -- a poor, impulsive, weak-willed, fast-living young neighbouring squire. Unluckily for himself, he had been early left his own master, and had ridden post-haste to the dogs ever since. Suddenly he had taken it into his muddled head to pull up in his career, and, if need be, to chain and padlock, hedge and barricade himself with a wife and family, before Ashpound should be swallowed up by hungry creditors, and he had hurried himself into a forlorn grave.',\n",
              "       b'Mr. Baring was willing to let him off as a pigeon to be plucked, and to use him instead as an unconscious decoy-duck in getting rid of Die; not that Mr. Baring had an unnatural aversion to his daughter, but that she was a drag upon him both for the present and the future. But Die, after one night\\'s reflection, accepted Gervase Norgate to escape worse evil, having neither brother nor sister nor friend who would aid her. What Die did on that night; whether she merely \"slept on the proposal,\" like a wise, well-in-hand, self-controlled woman; whether she outwatched the moon, plying herself with arguments, forcing herself to overcome her deadly sick loathing at the leap, nobody knows. If Die had learned anything worth retaining, in the shifts and shams of her life, it was perfect reticence. The result was that Gervase Norgate was coming to woo as an accepted wooer at Newton-le-Moor on the evening of the summer day when Mr. Baring confidentially assured the bride that the bridegroom would not last ten years.',\n",
              "       b\"Newton-le-Moor was what its name suggested, an estate won from the southern moors by other and worthier adventurers than John Fitzwilliam Baring. In his hands the place was drifting back to the original moorland. Everything, except the stables and kennels, had been suffered to go to wreck. The house was of weather-streaked white stone, in part staring and pretentious, in part prodigal and vagabondish. The drawing-room of Newton-le-Moor, like most drawing-rooms, was a commentary -- more or less complete -- on the life and character of its owner. If it did not represent all his practices and pursuits -- his repudiation of just claims and obligations; his sleeping till noon and waking till morning, and faring sumptuously at his neighbours' expense; his fleecing of every victim who crossed his false door by borrowing, bill-discounting, horse-dealing, betting, billiards, long and short whist, and brandy-drinking -- at least it painted one little peculiarity of John Fitzwilliam Baring very fairly. Not one accessory which could contribute to his comfort and enjoyment was wanting, from the exceedingly easy chair for his back, to the alabaster lamp for his eyes, and the silver pastile-burner for his nose. On the other hand, there was scarcely an article that had no special reference to John Fitzwilliam Baring which was not in the last stages of decay.\",\n",
              "       b\"On this evening, before Gervase Norgate came up with her father from the dining-room, where he might sit too long, considering who was waiting him, Diana had her tea-table arranged, and sat down behind it as if to do its honours. She showed no symptoms of discomposure, unless that her rose-colour flickered and flushed in a manner that was not natural to it; yet she had so entrenched herself, that when Gervase Norgate entered, with an irregular, unsteady step, although as nearly sober as he ever was, she could not be touched except at arm's length, and by the tips of the fingers, over which he bowed.\",\n",
              "       b'Mr. Norgate was not in his flower and prime. He was not above a year or two Miss Baring\\'s senior; but his whole being had suffered eclipse before it reached maturity, though he still showed some remains of what might have been worth preserving. His physique had been what no word interprets so fitly as the Scotch word \"braw,\" -- not huge and unwieldy in size and strength, but manly and comely. His shoulders were still broad, though they slouched. His hand and arm were still a model, somewhat wasted and shaken, of what in muscular power and lightness a hand and arm should be. His dark brown hair, dry and scanty at five-and-twenty, still fell in waves. His eyes, dulled and dimmed, were still the kindly, magnanimous, forgiving blue eyes. His mouth had always been a heavy mouth (better at all events than a mean mouth); it was coarse now, but with strange lines of gentleness breaking in upon its tendency to violence. But his carriage, though he was pre-eminently a well-made man, was the attribute most spoilt about him. He had the blustering yet shuffling bearing of a man who is fully convinced that he has gone to the dogs, and it did not alter its expression that he was making an effort to quit his canine associates. Perhaps the effort required to be confirmed before its effects could be seen; perhaps he was not setting about the right way of redeeming himself, after all.',\n",
              "       b\"Although Miss Baring was a person of very little consequence in her father's house, she acted on Mr. Baring as a drag. Her cold looks inadvertently damped him; and she had a way, which he could not account for in his daughter, of making blunt speeches, like that on the auspicious occasion and on her being left a rich young widow, if Gervase Norgate did for himself smartly. This was discomfiting even to a man who piqued himself on his resources in conversation. Die had uttered twice as many of these abrupt, unamiable, unanswerable rejoinders within these twenty-four hours, since she had accepted Gervase Norgate's hand.\",\n",
              "       b\"Whatever Mr. Baring thought of the rebuff, he was above exhibiting any sign of his feelings, and no one could have refused him the tribute of consideration for the position of his companions, as he blandly announced that he had the day's 'Chronicle' to read, and begged to be excused for accomplishing the task before post-time. He retired to sip his tea and disappear behind the folds of his newspaper. It was the first evening for a dozen years that he had not handled cue or fingered cards.\",\n",
              "       b\"Gervase Norgate, assuming his character of a man about to amend his ways, marry, and settle, sat by Die Baring. He noted and summed up the girl's good points, as no man in love ever yet did. She was a finer-looking woman than he had supposed, -- one to be proud of as he presented her to his friends as his wife; pity that he had so few creditable friends left now! He could think of none at that moment except his strong-minded old Aunt Tabby, who had some sneaking kindness for him in the middle of her scorn, and his old man, Miles. Die Baring would not tolerate his boon companions -- not that he wanted her to tolerate them; she would not suit for his mistress and manager if she did; though where she got her niceness -- seeing what her father was up to in cool, barefaced scampishness, in horse-flesh, bones, and pasteboard -- he could not tell. -- She was a capable woman he was certain, if she got a fair field for her capability. She was clever: anybody with half an eye or an ear might recognize that. And she would want all her cleverness -- ay, and her will and temper -- for what she would have to do. But she had undertaken the task, and it was not much to the purpose that if she had not been the daughter of a disreputable spendthrift she would doubtless as lief have touched live coals as have submitted to be his wife. Ah, well, it was his luck in his last toss-up, and he had never been lucky before; yet he had never felt so great a reluctance to conclude his engagement of twenty-four hours, and clinch his repentance, as he did at this moment. It was good for him that he stood committed. But why had he not sought out some humble, meek lass, who would still have looked up to him and reckoned him not quite such a reprobate, but believed that there was some good left in him, and liked him a little for himself -- not married him to suit her own book and save him for her own sake, if it were possible? Why had he not chosen a simple pet lamb, in place of a proud heifer who scarcely took the trouble to conceal from him how it galled her neck to put it into his yoke? Psha! he would break any poor heart with his incorrigible wildness and beastly sottishness in a month's time. A woman without a heart; a good, hard-mouthed, strong-pulling, well-wearing woman, -- honest, and a lady; a handsome, superior woman, and far beyond his deserts, was the wife for him.\",\n",
              "       b'\"Tell me something about your aunt Tabby. Do you know, I have not visited an aunt since I was a little girl of ten?\" This afforded him an opening more naturally and pleasantly, and the two went off on Aunt Tabby instead of accomplishing more courtship, and got on a little better. Diverging from Aunt Tabby to her place, and from her place to Ashpound, they went on with mention of Gervase\\'s factotum, Miles, and discussed capabilities and future arrangements with wonderful common sense.',\n",
              "       b'Mr. Baring swallowed his last gape over his \\'Chronicle,\\' concluded that the couple had surely had their swing of private conversation for one night, and resolved to curtail the courtship to the shortest decorous bounds. So Mr. Baring looked at his watch, and said quite lovingly to Gervase: \"My boy, when I do act the family man, I do the thing thoroughly, by supping in my dressing-room at eleven. What! you are off? A pleasant ride to you. You will receive your orders from Die, I fancy, when to report yourself in attendance. To-morrow is it, or next day? Make yourself at home, my dear fellow. Happy to think that you are going to be one of us -- a son for me to be proud of. Good-night. God bless you.\"',\n",
              "       b'\"She\\'s a fine woman the mistress, a rare fine woman; but she\\'s going the wrong way. It\\'s the cart before the horse, and I tell you it\\'s not conformable; and the master, God help him, poor fellow, will never be brought to go at the tail of the cart -- never.\" So ruminated Gervase Norgate\\'s old servant, Miles, pushing back the tufts of ragged red hair on his long head ruefully, as he sat \"promiscuous\" in what he was pleased to call his pantry at Ashpound, while he contemplated with the eye of the body his chamois skin for what he proudly denominated his silver, and with the eye of the mind the new r\\xc3\\xa9gime and its ruling spirit.',\n",
              "       b'\"She\\'s a fine woman,\" remarked also of her new niece, Miss Tabitha Norgate, of Redwells. \"She\\'s a fine woman, a great deal too good for him; but she oughtn\\'t to have gone and married Jarvie, or to have married anybody, there\\'s the long and the short of it. She ought to have remained single, like me. She was made to stand alone, while he wanted a woman and as many children as she could muster to hang round his neck -- the liker a millstone the better, -- he won\\'t drown: he could not take the straight road without a weight to ballast him and keep him steady. If he had consulted me, I would have advised him to marry that dawdling, whimpering Susie Lefroy, the widowed daughter of the Vicar, with her unprovided-for orphans. Jarvie might have stepped into a young family at once, and he would have been a kind stepfather -- he might have righted himself then. To go and marry a clever, active, handsome, well-born woman like Die Baring. Oh! dear, dear, what folly!\"',\n",
              "       b\"In spite of her critics, Mrs. Gervase Norgate spared no pains to acquit herself of her obligation, and to discharge her debt at Ashpound. Ashpound was a much more exhilarating residence than Newton-le-Moor. At Newton-le-Moor the desolation of prodigality and immorality was objective and deductive. At Ashpound the desolation was subjective and inductive, a plague-spot within; and although the flush of decay was visible, Gervase would struggle against it to the last. He would make an effort to preserve the pleasant, rambling, mellow brick house, most of it one-storied and draped with jessamine and clematis as old as the building; the belt of ash-trees round the ferny dells of the little park; and the whitewashed offices, in excellent repair; the well cared for cattle and poultry-yard; the amply-stocked, flourishing gardens; the pretty gardener's house and lodge -- the prettiest things about the place, as his father had left them to him. To the last Gervase would aim at keeping up the place, to his mother's drawing-room, his father's study, Miles's pantry and cellar, even the modern housekeeper's room, and the maids' gallery, in comfort and pleasantness. Only his own rooms -- dining-room, smoking-room, bedroom -- had been suffered to show traces of many a brawl and fray. It was as if he had deemed anything good enough for a scapegrace and beast like him, and thought to pay the whole price in his own person. It would not be with his will if any other person, high or low, contributed to his heavy forfeits. And Gervase Norgate's servants, new as well as old, had a pitiful liking for him, a remorseful regard for his interests, even when these clashed with their own. So when Gervase had removed the traces, repaired the damages, and taken the decisive step of forbidding the inroads of his evil associates, Mrs. Gervase Norgate found a peaceful, prosperous-seeming, as well as fair, country home awaiting her.\",\n",
              "       b'Neither did Mrs. Gervase Norgate droop or mope; she was alive to every advantage, alert to improve every opportunity. Frankly she praised the house at Ashpound, which she had formerly known at the distance of common acquaintanceship, but now knew in the nearness of home, from garret to cellar. \"What a well-seasoned, kindly dwelling you have here, Gervase. How I like the windows opening down to the floors, the creeping plants, the hall window-seats, and the attics with their pigeon-hole bureaux.\" She made herself familiar with its details, and she flattered its old occupants with the extent of her intimacy and appreciation. She did not let the grass grow beneath her feet in learning and acquiring its owner\\'s habits. Early rising had been one of the good old country habits which had stuck to Gervase. And not a dairymaid at Ashpound was up and abroad at so primitive an hour as its mistress, ready to walk with the Squire to his horses\\' stalls and paddocks, his cattle sheds, his game preserves, his workpeople in the fields; anywhere but to the sign of the \\'Spreading Ash-tree,\\' in the village of Ash-cum-thorpe, for his morning draught.',\n",
              "       b'\"Well-a-day,\" cried Dolly; \"I would not be the mistress, to rise and go to her work afore the stroke of six, and she a fine lady born and bred, for all the hats and feathers, table heads, and carriage-seats in this here world. If I ever have a word to say to Luke Jobling, I know it will be with an eye to a good long lie in the morning when he has gone to his mowing or his reaping. How Madam does it without ever drooping an eyelid, none of us can tell; but they do say the gentlefolks are as strong as steel when they like to put out their strength; happen it is the high living as gives it to them. I know Madam puts us to our mettle here. And lawk! the Squire, he\\'s as restless and lost like as a new weaned calf. Eh! I had liefer have the holding-in of a senseless calf, though I had not Luke to help me with the bars of the gates, than the holding in of a full-grown, whole-witted man. But the poor mistress -- them as don\\'t know the rights of a thing calls her saucy -- young lady though she be, she do work hard for her place and living, she do, since she has got Master Gervase and Ashpound.\"',\n",
              "       b\"Anticipating her husband's commands, Diana was ever ready to bear him company, to share his engagements and amusements, walking, riding, shooting, fishing, playing billiards, cribbage, bowls, racket, backgammon, draughts, for hours on a stretch; to go abroad attending the market and doing banking business at Market Hesketh, dining out with the Vicar or with any country host save Mr. Baring -- Mrs. Gervase Norgate setting her face against the paternal hospitalities -- dancing at the county balls as one of the leaders. She did not seem to know what weariness meant. She would trudge whole half-days with him and the keepers, after luncheon, beating the plantations and pacing the turnip-fields to start and bring down birds, and she would be sauntering with him on the terrace and in the park after dinner all the same. She would be in the saddle ten hours during a long day's hunt, as the autumn advanced and the meets assembled, and within an hour of alighting at the door of Ashpound, she would have exchanged muddy bottle-green or Waterloo blue cloth for glistening white satin, and be stepping into the carriage with Gervase to be present at one of their wedding parties.\",\n",
              "       b\"There was something positively great in the intentness with which the woman pursued her end of the man's salvation; the vigilance with which she ever kept sight of the wounded quarry she was to rescue and to restore. The neighbourhood watched the struggle with interest, admiration, hostile criticism, not very delicate diversion. Only to John Fitzwilliam Baring the struggle was a matter of indifference -- rather of repugnance. He would have liked Die to be more feminine and more helpless.\",\n",
              "       b\"Beyond the honeymoon, and with the feeling decidedly growing, Gervase Norgate was gratified by his wife's sacrifice of herself in every respect, and long before he grew accustomed to it and felt easy under it, he was touched by it. He liked her company too, for he was fond of society, and had been lonely since his father and mother died. She was an observant, intelligent woman, high-minded and pure-hearted, and vastly superior to his late satellites. She was eager to suit herself to him, and made herself as free with him as she could be, as far as he knew, with any one. At this season Gervase Norgate was attracted to something warmer, sweeter, more intimate in their intercourse. He enjoyed her quick remarks and shrewd conclusions. He was pleased with, and proud of the new blossoming of her beauty under the combined influences of an open-air life, constant occupation, and a powerful object. He was willing to wait till more tender feelings should awaken between them. It looked as if Gervase Norgate had turned over a new leaf: his cheek lost its dull, engrained red, or its pallor; his lips grew firmer; his eyes clearer and cooler; he raised his head, and threw off something of the slouch of his shoulders and the swing and uncertainty of his walk.\",\n",
              "       b'\"How well you look in that pretty dress, Diana!\" he would say; \"I declare you are as brave a figure as any in my Lord\\'s picture-gallery. Let me fetch you a cluster of monthly roses, though I am not fit to hold the candle to you.\" Or, \"Come, Die, let us have a stroll and a smoke in the garden.\" Or, \"Sit still for another game, will you? My hand is just in and my luck beginning. I know you are never tired. Mrs. Gervase, you are a trump -- the ace of trumps.\"',\n",
              "       b\"First, Gervase was conscious of being nettled by the distance which existed between him and Diana. And certainly, to be sensible of his arm being arrested by an unseen obstacle when he thought to put it round his own wife's waist, to collapse in the mere idea of asking her to give him a kiss, never to have felt so fully the dissipated, degraded fool he had been, as he felt then, was not a pleasant sensation. It may sound immoral, but it seemed as if, had Gervase been more depraved, there would have been more hope for him, since he would have appreciated the gulf between him and his guardian less.\",\n",
              "       b'Then the old craving returned like a death thirst. The old, wild, worthless, low companions, were cognisant, as if by instinct, of a relapse. Eager to hail its signs, and profit by them, they waylaid him at the \\'Spreading Ash,\\' with \"Hey, don\\'t you dare to swallow a single glass in your own village, to give custom to your villager, man?\" They waylaid and gathered round him in the market-place of Market Hesketh, with \"Well met, Mr. Gervase Norgate. Lord! are you alive still? for we had doubted it. Don\\'t speak to him to detain him, you fellows; don\\'t you see Mrs. Gervase has her eye upon him, and is craning her neck to discover what is keeping him? Off with you, sir, since you are a husband, a reformed rake, and a church-goer. If you had gone and joined the Methodists, you might have been a preacher yourself by this time. Oh! we don\\'t want to spoil sport and balk your good intentions; but, by George, Gervase, we never thought you would have been the man to be tied so tight to a woman\\'s apron-string. You must spare us one more carouse for old friendship\\'s sake, my boy, just to try what it is like again, and hear all the news. Ah! your teeth are watering; come along; Madam is not to swallow you up entirely.\"',\n",
              "       b'They got him away from his wife, and made him leave her sitting an hour in the carriage, with a pair of young horses pawing and rearing and endangering her very life in the yard of the \\'Crown.\\' They made him send her home without him, and kept him till they had nothing more to say than \"Heave the poor devil into a gig, and drive him up to his own door and put him down there. It is the best you can do for him, -- the fool was always so easily upset; and it will do for her at the same time -- give her something to hold her cursed high white head in the air and turn up her nose for; serve her impudence right for taking it upon her to act as private policeman to Jarvie.\" They sent him home to her, a beast who had been with wild beasts. They did it for the most part heedlessly, in jollity and jeering; but they did it not the less effectually. The wild beast of sensuality had him again; not one devil, but seven, had entered into him; and reigning king over the others, an insensate devil of cruel jealousy of his wife, of his gaoler, resenting her efforts, defying her pains.'],\n",
              "      dtype=object)>"
            ]
          },
          "metadata": {},
          "execution_count": 13
        }
      ],
      "source": [
        "next(iter(raw_train_ds))"
      ]
    },
    {
      "cell_type": "markdown",
      "metadata": {
        "id": "WI4mHr3Dw4Yp"
      },
      "source": [
        "## 토크나이저 학습하기\n",
        "\n",
        "먼저 텍스트를 토큰화(Tokenize)를 하기 위한 토크나이저를 만들어 봅시다.\n",
        "여기서 토크나이저를 만드는 목적은 기존의 어휘 단어에 대해서 쪼개어 사전 토큰 수를 줄이고자 하는 목적이 있습니다.\n",
        "이 토크나이저는 우리가 학습하고자 하는 학습 데이터셋으로 구성이 되고 `VOCAB_SIZE` 설정에 따라 토크나이저 사전 토큰 수도 정해집니다.\n",
        "사전 토큰 수를 조절함에 따라 나중에 학습할 모델 성능에 영향을 줄 수 있습니다.\n",
        "예를들어, 만약 너무 작은 사전 토큰 수로 정의를 하게 된다면 모델 학습을 하는 경우 Out-of-vocabulary(OOV)가 많이 발생하여 생성 퀄리티에 크게 영향을 받을 수 있을 겁니다.\n",
        "\n",
        "토크나이저를 정의하면서 3 개의 토큰을 사전에 추가하고자 합니다.\n",
        "\n",
        "- `\"[PAD]\"` 토큰은 학습할 텍스트 데이터에 길이를 고정하게 되었을 때 남는 토큰 위치에 추가를 해주는 토큰입니다. `\"[PAD]\"` 토큰을 이용하여 길이가 짧은 텍스트 데이터에 대해서 길이를 맞춰주는 역할을 합니다.\n",
        "- `\"[UNK]\"` 토큰은 토큰화를 하는데 사전에 존재하지 않는 토큰이 나왔을 때 대신 채워주는 토큰입니다. \n",
        "- `\"[BOS]\"` 토큰은 문장을 시작하는 신호로 쓰이기 위한 토큰입니다. 학습 데이터에서는 텍스트가 시작되는 지점에 `\"[BOS]\"` 토큰을 둡니다.\n",
        "\n",
        "이번 실습에서는 `keras_nlp.tokenizers`에 있는 `compute_word_piece_vocabulary` 함수를 이용하여 Wordpiece 토크나이저 사전을 생성해보겠습니다.\n"
      ]
    },
    {
      "cell_type": "code",
      "execution_count": null,
      "metadata": {
        "id": "1vRCgo3_w4Yq"
      },
      "outputs": [],
      "source": [
        "# 토크나이저 사전을 학습합니다.\n",
        "vocab = keras_nlp.tokenizers.compute_word_piece_vocabulary(\n",
        "    raw_train_ds,\n",
        "    vocabulary_size=VOCAB_SIZE,\n",
        "    lowercase=True,\n",
        "    reserved_tokens=[\"[PAD]\", \"[UNK]\", \"[BOS]\"],\n",
        ")"
      ]
    },
    {
      "cell_type": "markdown",
      "source": [
        "생성한 토크나이저 사전은 아래와 같이 확인할 수 있습니다."
      ],
      "metadata": {
        "id": "D1N4d7Yi3u0X"
      }
    },
    {
      "cell_type": "code",
      "source": [
        "print(vocab[:30])"
      ],
      "metadata": {
        "colab": {
          "base_uri": "https://localhost:8080/"
        },
        "id": "w7fIM9AZTZwU",
        "outputId": "e63f1ee8-376b-49ce-c387-694bed5411b2"
      },
      "execution_count": null,
      "outputs": [
        {
          "output_type": "stream",
          "name": "stdout",
          "text": [
            "['[PAD]', '[UNK]', '[BOS]', '!', '\"', '$', '%', '&', \"'\", '(', ')', '*', '+', ',', '-', '.', '/', '0', '1', '2', '3', '4', '5', '6', '7', '8', '9', ':', ';', '=']\n"
          ]
        }
      ]
    },
    {
      "cell_type": "markdown",
      "metadata": {
        "id": "636-D-0uw4Yq"
      },
      "source": [
        "## 토크나이저 만들기\n",
        "\n",
        "앞서 만든 Wordpiece 토크나이저 사전을 가지고 토크나이저 객체를 만들어 보겠습니다.\n",
        "토크나이저 객체는 `keras_nlp.tokenizers.WordPieceTokenizer` 클래스를 생성하여 만듭니다.\n",
        "(`WordPieceTokenizer`는 `BERT`라는 모델에서 주로 사용하는 토크나이저입니다.)\n",
        "\n",
        "`WordPieceTokenizer` 생성시 `sequence_length`와 `lowercase`를 설정함으로서 토큰화를 하는데 텍스트 길이를 제한하고 알파벳 텍스트의 경우 소문자로만 표기할 수 있도록 합니다."
      ]
    },
    {
      "cell_type": "code",
      "execution_count": null,
      "metadata": {
        "id": "NwH3QkSMw4Yq"
      },
      "outputs": [],
      "source": [
        "tokenizer = keras_nlp.tokenizers.WordPieceTokenizer(\n",
        "    vocabulary=vocab,\n",
        "    sequence_length=SEQ_LEN,\n",
        "    lowercase=True\n",
        ")"
      ]
    },
    {
      "cell_type": "markdown",
      "source": [
        "생성한 토크나이저를 가지고 토큰화를 하면 아래와 같은 결과로 나타납니다."
      ],
      "metadata": {
        "id": "bEpaniu37paP"
      }
    },
    {
      "cell_type": "code",
      "source": [
        "print([tokenizer.id_to_token(t) for t in tokenizer.tokenize('hello world!').numpy().tolist()])"
      ],
      "metadata": {
        "colab": {
          "base_uri": "https://localhost:8080/"
        },
        "id": "imhP0yAaffZk",
        "outputId": "7b57ab93-4d1a-4f57-8c76-ce2dfcd956de"
      },
      "execution_count": null,
      "outputs": [
        {
          "output_type": "stream",
          "name": "stdout",
          "text": [
            "['he', '##ll', '##o', 'world', '!', '[PAD]', '[PAD]', '[PAD]', '[PAD]', '[PAD]', '[PAD]', '[PAD]', '[PAD]', '[PAD]', '[PAD]', '[PAD]', '[PAD]', '[PAD]', '[PAD]', '[PAD]', '[PAD]', '[PAD]', '[PAD]', '[PAD]', '[PAD]', '[PAD]', '[PAD]', '[PAD]', '[PAD]', '[PAD]', '[PAD]', '[PAD]', '[PAD]', '[PAD]', '[PAD]', '[PAD]', '[PAD]', '[PAD]', '[PAD]', '[PAD]', '[PAD]', '[PAD]', '[PAD]', '[PAD]', '[PAD]', '[PAD]', '[PAD]', '[PAD]', '[PAD]', '[PAD]', '[PAD]', '[PAD]', '[PAD]', '[PAD]', '[PAD]', '[PAD]', '[PAD]', '[PAD]', '[PAD]', '[PAD]', '[PAD]', '[PAD]', '[PAD]', '[PAD]', '[PAD]', '[PAD]', '[PAD]', '[PAD]', '[PAD]', '[PAD]', '[PAD]', '[PAD]', '[PAD]', '[PAD]', '[PAD]', '[PAD]', '[PAD]', '[PAD]', '[PAD]', '[PAD]', '[PAD]', '[PAD]', '[PAD]', '[PAD]', '[PAD]', '[PAD]', '[PAD]', '[PAD]', '[PAD]', '[PAD]', '[PAD]', '[PAD]', '[PAD]', '[PAD]', '[PAD]', '[PAD]', '[PAD]', '[PAD]', '[PAD]', '[PAD]', '[PAD]', '[PAD]', '[PAD]', '[PAD]', '[PAD]', '[PAD]', '[PAD]', '[PAD]', '[PAD]', '[PAD]', '[PAD]', '[PAD]', '[PAD]', '[PAD]', '[PAD]', '[PAD]', '[PAD]', '[PAD]', '[PAD]', '[PAD]', '[PAD]', '[PAD]', '[PAD]', '[PAD]', '[PAD]', '[PAD]', '[PAD]', '[PAD]']\n"
          ]
        }
      ]
    },
    {
      "cell_type": "markdown",
      "metadata": {
        "id": "13q3qMRGw4Yq"
      },
      "source": [
        "## 인덱싱 파이프라인 추가하기\n",
        "\n",
        "앞서 구현한 데이터 파이프라인에 토큰화 작업과 실제 모델 학습을 위한 입력 데이터와 정답 레이블을 추가해보도록 하겠습니다.\n"
      ]
    },
    {
      "cell_type": "markdown",
      "source": [
        "`keras_nlp.layers.StartEndPacker` 클래스는 입력 텍스트 데이터의 길이를 제한하고 문장 시작 토큰 `\"[BOS]\"`를 추가해주는 역할을 합니다."
      ],
      "metadata": {
        "id": "MWTQ6CZe-fEI"
      }
    },
    {
      "cell_type": "code",
      "execution_count": null,
      "metadata": {
        "id": "uWX2hXOEw4Yr"
      },
      "outputs": [],
      "source": [
        "start_packer = keras_nlp.layers.StartEndPacker(\n",
        "    sequence_length=SEQ_LEN,\n",
        "    start_value=tokenizer.token_to_id(\"[BOS]\"),\n",
        ")"
      ]
    },
    {
      "cell_type": "markdown",
      "source": [
        "생성한 `StartEndPacker`를 호출해보면 `\"[BOS]\"` 토큰 id `2` 가 추가된 결과를 확인해볼 수 있습니다."
      ],
      "metadata": {
        "id": "Z3peBUL3_llV"
      }
    },
    {
      "cell_type": "code",
      "source": [
        "tokens = tokenizer('hello world')\n",
        "start_packer(tokens)"
      ],
      "metadata": {
        "colab": {
          "base_uri": "https://localhost:8080/"
        },
        "id": "YjVF9ut6_GP9",
        "outputId": "5e940f87-0310-4d28-b9fc-cb1bccba1aff"
      },
      "execution_count": null,
      "outputs": [
        {
          "output_type": "execute_result",
          "data": {
            "text/plain": [
              "<tf.Tensor: shape=(128,), dtype=int32, numpy=\n",
              "array([   2,  103, 1520,  291,  394,    0,    0,    0,    0,    0,    0,\n",
              "          0,    0,    0,    0,    0,    0,    0,    0,    0,    0,    0,\n",
              "          0,    0,    0,    0,    0,    0,    0,    0,    0,    0,    0,\n",
              "          0,    0,    0,    0,    0,    0,    0,    0,    0,    0,    0,\n",
              "          0,    0,    0,    0,    0,    0,    0,    0,    0,    0,    0,\n",
              "          0,    0,    0,    0,    0,    0,    0,    0,    0,    0,    0,\n",
              "          0,    0,    0,    0,    0,    0,    0,    0,    0,    0,    0,\n",
              "          0,    0,    0,    0,    0,    0,    0,    0,    0,    0,    0,\n",
              "          0,    0,    0,    0,    0,    0,    0,    0,    0,    0,    0,\n",
              "          0,    0,    0,    0,    0,    0,    0,    0,    0,    0,    0,\n",
              "          0,    0,    0,    0,    0,    0,    0,    0,    0,    0,    0,\n",
              "          0,    0,    0,    0,    0,    0,    0], dtype=int32)>"
            ]
          },
          "metadata": {},
          "execution_count": 19
        }
      ]
    },
    {
      "cell_type": "markdown",
      "source": [
        "이제 토크나이저와 `StartEndPacker` 처리를 거쳐서 모델 입력과 정답 레이블을 출력할 수 있는 함수를 구현해 보겠습니다.\n",
        "`preprocess` 함수를 선언하여 토큰화를 하고 `\"[BOS]\"` 토큰을 추가하는 과정을 구현합니다."
      ],
      "metadata": {
        "id": "7-NBzGOdAP4z"
      }
    },
    {
      "cell_type": "code",
      "source": [
        "def preprocess(inputs):\n",
        "    outputs = tokenizer(inputs)\n",
        "    features = start_packer(outputs)\n",
        "    labels = outputs\n",
        "    return features, labels"
      ],
      "metadata": {
        "id": "OFOfPeX7-ZvB"
      },
      "execution_count": null,
      "outputs": []
    },
    {
      "cell_type": "markdown",
      "source": [
        "선언한 함수의 결과는 아래와 같습니다."
      ],
      "metadata": {
        "id": "EQFY2_lLCvI5"
      }
    },
    {
      "cell_type": "code",
      "source": [
        "preprocess(\"This is test sentence.\")"
      ],
      "metadata": {
        "colab": {
          "base_uri": "https://localhost:8080/"
        },
        "id": "CixI5HAKCa26",
        "outputId": "ae210c94-c637-4d9d-e63f-615e8d5623b3"
      },
      "execution_count": null,
      "outputs": [
        {
          "output_type": "execute_result",
          "data": {
            "text/plain": [
              "(<tf.Tensor: shape=(128,), dtype=int32, numpy=\n",
              " array([   2,  139,  124,   56,  410,  375, 1121,   15,    0,    0,    0,\n",
              "           0,    0,    0,    0,    0,    0,    0,    0,    0,    0,    0,\n",
              "           0,    0,    0,    0,    0,    0,    0,    0,    0,    0,    0,\n",
              "           0,    0,    0,    0,    0,    0,    0,    0,    0,    0,    0,\n",
              "           0,    0,    0,    0,    0,    0,    0,    0,    0,    0,    0,\n",
              "           0,    0,    0,    0,    0,    0,    0,    0,    0,    0,    0,\n",
              "           0,    0,    0,    0,    0,    0,    0,    0,    0,    0,    0,\n",
              "           0,    0,    0,    0,    0,    0,    0,    0,    0,    0,    0,\n",
              "           0,    0,    0,    0,    0,    0,    0,    0,    0,    0,    0,\n",
              "           0,    0,    0,    0,    0,    0,    0,    0,    0,    0,    0,\n",
              "           0,    0,    0,    0,    0,    0,    0,    0,    0,    0,    0,\n",
              "           0,    0,    0,    0,    0,    0,    0], dtype=int32)>,\n",
              " <tf.Tensor: shape=(128,), dtype=int32, numpy=\n",
              " array([ 139,  124,   56,  410,  375, 1121,   15,    0,    0,    0,    0,\n",
              "           0,    0,    0,    0,    0,    0,    0,    0,    0,    0,    0,\n",
              "           0,    0,    0,    0,    0,    0,    0,    0,    0,    0,    0,\n",
              "           0,    0,    0,    0,    0,    0,    0,    0,    0,    0,    0,\n",
              "           0,    0,    0,    0,    0,    0,    0,    0,    0,    0,    0,\n",
              "           0,    0,    0,    0,    0,    0,    0,    0,    0,    0,    0,\n",
              "           0,    0,    0,    0,    0,    0,    0,    0,    0,    0,    0,\n",
              "           0,    0,    0,    0,    0,    0,    0,    0,    0,    0,    0,\n",
              "           0,    0,    0,    0,    0,    0,    0,    0,    0,    0,    0,\n",
              "           0,    0,    0,    0,    0,    0,    0,    0,    0,    0,    0,\n",
              "           0,    0,    0,    0,    0,    0,    0,    0,    0,    0,    0,\n",
              "           0,    0,    0,    0,    0,    0,    0], dtype=int32)>)"
            ]
          },
          "metadata": {},
          "execution_count": 24
        }
      ]
    },
    {
      "cell_type": "markdown",
      "source": [
        "이전에 생성한 `raw_train_ds`, `raw_val_ds` 객체에 `map` 함수를 적용하여 토크화 파이프라인을 추가합니다.\n",
        "`map` 함수는 전처리하는 함수를 입력하여 전처리 동작을 할 수 있도록 합니다.\n",
        "`num_parallel_calls` 설정은 `map`에서 처리하는 것을 여러 스레드로 처리할 수 있도록 설정합니다.\n",
        "\n",
        "추가로 `prefetch` 함수는 현 시점에서 그 다음에 출력할 데이터를 미리 준비하는 역할로 데이터 처리 latency를 향상시키는 효과가 있습니다. \n",
        "주로 데이터셋 처리가 끝나는 지점에 `prefetch`함수를 선언합니다."
      ],
      "metadata": {
        "id": "4ZhLX8VgCxDu"
      }
    },
    {
      "cell_type": "code",
      "source": [
        "train_ds = raw_train_ds.map(preprocess, num_parallel_calls=tf.data.AUTOTUNE).prefetch(\n",
        "    tf.data.AUTOTUNE\n",
        ")\n",
        "val_ds = raw_val_ds.map(preprocess, num_parallel_calls=tf.data.AUTOTUNE).prefetch(\n",
        "    tf.data.AUTOTUNE\n",
        ")"
      ],
      "metadata": {
        "id": "MIN7-wVD-Z9w"
      },
      "execution_count": null,
      "outputs": []
    },
    {
      "cell_type": "markdown",
      "metadata": {
        "id": "FNq4W2V9w4Yr"
      },
      "source": [
        "## GPT 모델 만들기\n",
        "\n",
        "본격적으로 학습할 GPT 모델을 Keras로 만들어봅시다.\n",
        "만들 GPT 모델은 다음과 같은 layer들로 구성이 됩니다.\n",
        "\n",
        "- Embedding layer: 입력 토큰 인덱스에 대해 토큰과 위치에 대한 임베딩을 출력합니다.\n",
        "- Decoder layer: 입력 토큰들 뒤에 생성할 다음 토큰 임베딩을 출력합니다.\n",
        "- Logit layer: 최종적으로 출력할 다음 토큰 인덱스를 출력합니다."
      ]
    },
    {
      "cell_type": "markdown",
      "source": [
        "먼저 모델 입력을 구현해줍니다. \n",
        "Keras에서는 `keras.layers.Input`을 통해 모델의 입력을 정의합니다."
      ],
      "metadata": {
        "id": "O0p_hNGxSyXW"
      }
    },
    {
      "cell_type": "code",
      "execution_count": null,
      "metadata": {
        "id": "_n7usIumw4Yr"
      },
      "outputs": [],
      "source": [
        "inputs = keras.layers.Input(shape=(None,), dtype=tf.int32)"
      ]
    },
    {
      "cell_type": "markdown",
      "source": [
        "Embedding Layer를 구현합니다. \n",
        "여기서는 GPT 모델에서 활용한 토큰과 위치에 대한 임베딩을 같이 활용합니다.\n",
        "`keras_nlp.layers.TokenAndPositionEmbedding` 클래스를 활용하면 간단하게 임베딩 레이어를 구현할 수 있습니다.\n",
        "\n",
        "Embedding Layer는 앞서 구현한 입력 객체를 레이어 객체에 입력으로 넣어줍니다."
      ],
      "metadata": {
        "id": "tQORDtTsTA7A"
      }
    },
    {
      "cell_type": "code",
      "source": [
        "# Embedding.\n",
        "embedding_layer = keras_nlp.layers.TokenAndPositionEmbedding(\n",
        "    vocabulary_size=VOCAB_SIZE,\n",
        "    sequence_length=SEQ_LEN,\n",
        "    embedding_dim=EMBED_DIM,\n",
        "    mask_zero=True,\n",
        ")\n",
        "x = embedding_layer(inputs)"
      ],
      "metadata": {
        "id": "akMWbbb9SRrk"
      },
      "execution_count": null,
      "outputs": []
    },
    {
      "cell_type": "markdown",
      "source": [
        "임베딩 레이어에 이어서 Decoder Layer를 구현합니다.\n",
        "Decoder Layer는 `keras_nlp.layers.TransformerDecoder`를 활용합니다.\n",
        "Transformer 모델에는 Encoder 방식과 Decoder 방식으로 구분되는데 GPT에서는 Decoder만 활용됩니다.\n",
        "\n",
        "Decoder Layer는 여러 개의 layer로 쌓을 수 있어 `NUM_LAYERS` 만큼 디코더 레이어를 쌓도록 구현되었습니다."
      ],
      "metadata": {
        "id": "HaEeMza4TSo7"
      }
    },
    {
      "cell_type": "code",
      "source": [
        "for _ in range(NUM_LAYERS):\n",
        "    decoder_layer = keras_nlp.layers.TransformerDecoder(\n",
        "        num_heads=NUM_HEADS,\n",
        "        intermediate_dim=FEED_FORWARD_DIM,\n",
        "    )\n",
        "    x = decoder_layer(x) "
      ],
      "metadata": {
        "id": "IY69qIdwSRa-"
      },
      "execution_count": null,
      "outputs": []
    },
    {
      "cell_type": "markdown",
      "source": [
        "Logit Layer의 경우 마지막 Decoder Layer에서 출력한 값을 그대로 Dense 레이어를 거치도록 합니다.\n",
        "\n",
        "여기서는 `keras.layers.Dense` 레이어 클래스를 이용하여 Logit Layer를 구현합니다."
      ],
      "metadata": {
        "id": "fMALq8ZyUQ18"
      }
    },
    {
      "cell_type": "code",
      "source": [
        "outputs = keras.layers.Dense(VOCAB_SIZE)(x)"
      ],
      "metadata": {
        "id": "zgjFH5LASYaY"
      },
      "execution_count": null,
      "outputs": []
    },
    {
      "cell_type": "markdown",
      "source": [
        "이렇게 모델 레이어에 대한 구현이 완료되면 `keras.Model`로 GPT 모델을 만들어줍니다.\n",
        "이때 Model은 입력과 출력에 대한 객체만 생성시 입력으로 넣어주면 앞서 구현한 레이어들을 가진 모델 객체가 출력됩니다.\n",
        "\n",
        "모델 학습을 위한 Loss 함수와 성능 메트릭 함수를 위해 `tf.keras.losses.SparseCategoricalCrossentropy`와 `keras_nlp.metrics.Perplexity`를 생성합니다.\n",
        "\n",
        "\n",
        "`tf.keras.losses.SparseCategoricalCrossentropy`는 Cross Entropy 함수로 출력 클래스 수가 많은 경우에 활용합니다.\n",
        "`keras_nlp.metrics.Perplexity`는 텍스트 생성 성능을 측정할 때 주로 사용되는 지표로 수치가 낮을 수록 더 나은 택스트 생성을 보입니다.\n",
        "\n",
        "이렇게 Loss 함수와 메트릭 함수가 준비되면 `model.compile`을 통해 모델 학습할 준비를 마칠 수 있습니다."
      ],
      "metadata": {
        "id": "0QegjNTPUo2R"
      }
    },
    {
      "cell_type": "code",
      "source": [
        "model = keras.Model(inputs=inputs, outputs=outputs)\n",
        "\n",
        "loss_fn = tf.keras.losses.SparseCategoricalCrossentropy(from_logits=True)\n",
        "perplexity = keras_nlp.metrics.Perplexity(from_logits=True, mask_token_id=0)\n",
        "\n",
        "model.compile(optimizer=\"adam\", loss=loss_fn, metrics=[perplexity])"
      ],
      "metadata": {
        "id": "69WbmQQVSctR"
      },
      "execution_count": null,
      "outputs": []
    },
    {
      "cell_type": "markdown",
      "metadata": {
        "id": "yEPs7LFmw4Yr"
      },
      "source": [
        "이렇게 만들어진 GPT 모델을 어떻게 구성되어있는지 summary로 확인할 수 있습니다.\n",
        "모델 파라메터 사이즈를 확인하면 Embedding Layer와 Logit Layer가 굉장히 크다는 것을 알 수 있는데요. 반면 Decoder Layer는 레이어 수가 많아도 Embedding Layer에 비해 그리 크진 않습니다. 이렇게 토큰 사전 크기에 따라 파라메터 수가 얼마나 커질 수 있는지 보여줍니다."
      ]
    },
    {
      "cell_type": "code",
      "execution_count": null,
      "metadata": {
        "id": "REAn6mznw4Yr",
        "colab": {
          "base_uri": "https://localhost:8080/"
        },
        "outputId": "dee2092a-74d9-4887-a8d1-f1fec54456ff"
      },
      "outputs": [
        {
          "output_type": "stream",
          "name": "stdout",
          "text": [
            "Model: \"model\"\n",
            "_________________________________________________________________\n",
            " Layer (type)                Output Shape              Param #   \n",
            "=================================================================\n",
            " input_1 (InputLayer)        [(None, None)]            0         \n",
            "                                                                 \n",
            " token_and_position_embeddin  (None, None, 256)        1312768   \n",
            " g (TokenAndPositionEmbeddin                                     \n",
            " g)                                                              \n",
            "                                                                 \n",
            " transformer_decoder (Transf  (None, None, 256)        394749    \n",
            " ormerDecoder)                                                   \n",
            "                                                                 \n",
            " transformer_decoder_1 (Tran  (None, None, 256)        394749    \n",
            " sformerDecoder)                                                 \n",
            "                                                                 \n",
            " dense (Dense)               (None, None, 5000)        1285000   \n",
            "                                                                 \n",
            "=================================================================\n",
            "Total params: 3,387,266\n",
            "Trainable params: 3,387,266\n",
            "Non-trainable params: 0\n",
            "_________________________________________________________________\n"
          ]
        }
      ],
      "source": [
        "model.summary()"
      ]
    },
    {
      "cell_type": "markdown",
      "metadata": {
        "id": "WmZYhTf-w4Ys"
      },
      "source": [
        "## 모델 학습\n",
        "\n",
        "이제 지금까지 만든 모델을 `fit()`함수를 통해 학습해보도록 합시다."
      ]
    },
    {
      "cell_type": "code",
      "execution_count": null,
      "metadata": {
        "id": "K5Vx5i0Ow4Ys",
        "colab": {
          "base_uri": "https://localhost:8080/"
        },
        "outputId": "7b4839f9-f640-4317-f156-1d65895993e9"
      },
      "outputs": [
        {
          "output_type": "stream",
          "name": "stdout",
          "text": [
            "Epoch 1/6\n",
            "3169/3169 - 238s - loss: 4.5088 - perplexity: 96.2405 - val_loss: 4.0023 - val_perplexity: 62.5531 - 238s/epoch - 75ms/step\n",
            "Epoch 2/6\n",
            "3169/3169 - 229s - loss: 4.0025 - perplexity: 57.6544 - val_loss: 3.8421 - val_perplexity: 52.8804 - 229s/epoch - 72ms/step\n",
            "Epoch 3/6\n",
            "3169/3169 - 233s - loss: 3.8910 - perplexity: 51.4962 - val_loss: 3.8000 - val_perplexity: 50.4783 - 233s/epoch - 74ms/step\n",
            "Epoch 4/6\n",
            "3169/3169 - 234s - loss: 3.8280 - perplexity: 48.3152 - val_loss: 3.7428 - val_perplexity: 47.8048 - 234s/epoch - 74ms/step\n",
            "Epoch 5/6\n",
            "3169/3169 - 232s - loss: 3.7847 - perplexity: 46.2416 - val_loss: 3.7241 - val_perplexity: 46.9146 - 232s/epoch - 73ms/step\n",
            "Epoch 6/6\n",
            "3169/3169 - 231s - loss: 3.7534 - perplexity: 44.7984 - val_loss: 3.7239 - val_perplexity: 46.7429 - 231s/epoch - 73ms/step\n"
          ]
        },
        {
          "output_type": "execute_result",
          "data": {
            "text/plain": [
              "<keras.callbacks.History at 0x7f642c3cf210>"
            ]
          },
          "metadata": {},
          "execution_count": 32
        }
      ],
      "source": [
        "model.fit(train_ds, validation_data=val_ds, verbose=2, epochs=EPOCHS)"
      ]
    },
    {
      "cell_type": "markdown",
      "metadata": {
        "id": "LsphnihZw4Ys"
      },
      "source": [
        "## 텍스트 생성 인퍼런스\n",
        "\n",
        "이제 학습한 모델을 가지고 텍스트 생성을 해보도록 합시다.\n",
        "데이터 전처리를 하면서 `\"[BOS]\"` 토큰에 대해서 이야기 했었는데요.\n",
        "이 토큰을 입력 프롬프트로 텍스트를 생성해보도록 하겠습니다.\n"
      ]
    },
    {
      "cell_type": "code",
      "execution_count": null,
      "metadata": {
        "id": "n-YoWeXsw4Ys"
      },
      "outputs": [],
      "source": [
        "prompt_tokens = tf.convert_to_tensor([tokenizer.token_to_id(\"[BOS]\")])"
      ]
    },
    {
      "cell_type": "markdown",
      "metadata": {
        "id": "1nt6sLtNw4Ys"
      },
      "source": [
        "텍스트 생성을 할 때는 `keras_nlp.utils`에 있는 모듈을 사용하고자 합니다.\n",
        "`keras_nlp.utils`을 사용하여 텍스트 생성을 하기 위해서 `token_logits_fn()` 함수를 래퍼(wrapper)로 구성합니다. (이 부분은 뒤에서 활용하는 방법에서 다시 설명하도록 하겠습니다.)\n",
        "이 함수는 GPT 모델 인퍼런스를 한 후 PAD 토큰을 제거하고 생성하는 그 다음 토큰만 출력합니다."
      ]
    },
    {
      "cell_type": "code",
      "execution_count": null,
      "metadata": {
        "id": "Sae51-sHw4Yt"
      },
      "outputs": [],
      "source": [
        "def token_logits_fn(inputs):\n",
        "    cur_len = inputs.shape[1]\n",
        "    output = model(inputs)\n",
        "    return output[:, cur_len - 1, :]  # return next token logits\n"
      ]
    },
    {
      "cell_type": "markdown",
      "metadata": {
        "id": "rubxAVggw4Yt"
      },
      "source": [
        "사실 텍스트를 생성하기 위해 사실 생성을 하기 위한 여러 방법들을 구현해야합니다.\n",
        "다행이도, `keras_nlp.utils`에서 텍스트 생성에 필요한 방법을 모두 만들어뒀습니다.\n",
        "이제 어떻게 활용할 수 있는지 살펴보도록 합시다."
      ]
    },
    {
      "cell_type": "markdown",
      "metadata": {
        "id": "g-jKkL50w4Yt"
      },
      "source": [
        "### 그리디 서치\n",
        "\n",
        "그리디 서치는 가장 기본적인 텍스트 생성 방법입니다.\n",
        "이 방법은 모델에서 출력한 토큰 확률 중 가장 높은 확률을 가진 것을 가지고 출력합니다."
      ]
    },
    {
      "cell_type": "code",
      "execution_count": null,
      "metadata": {
        "id": "JbpBxZxfw4Yt",
        "colab": {
          "base_uri": "https://localhost:8080/"
        },
        "outputId": "0b7c0167-737d-495b-d02a-901fc376b25a"
      },
      "outputs": [
        {
          "output_type": "stream",
          "name": "stdout",
          "text": [
            "Greedy search generated text: \n",
            "b'[BOS] \" i \\' m not going to be a'\n",
            "\n"
          ]
        }
      ],
      "source": [
        "output_tokens = keras_nlp.utils.greedy_search(\n",
        "    token_logits_fn,\n",
        "    prompt_tokens,\n",
        "    max_length=NUM_TOKENS_TO_GENERATE,\n",
        ")\n",
        "txt = tokenizer.detokenize(output_tokens)\n",
        "print(f\"Greedy search generated text: \\n{txt}\\n\")"
      ]
    },
    {
      "cell_type": "markdown",
      "metadata": {
        "id": "KBP3Fmprw4Yt"
      },
      "source": [
        "그리디 서치와 같은 경우는 텍스트 생성을 하면서 금방 어휘가 반복되는 문제가 있습니다.\n",
        "\n",
        "이러한 문제를 출력된 토큰의 확률을 이용하여 해결하는 방법이 있는데 이 내용은 뒤에서 다시 살펴보도록 하겠습니다."
      ]
    },
    {
      "cell_type": "markdown",
      "metadata": {
        "id": "HLmvcdLLw4Yt"
      },
      "source": [
        "### 빔서치\n",
        "\n",
        "빔서치는 `beam_search`에 정의한 `num_beams` 수 만큼의 토큰 시퀀스의 확률들을 조합해서 가장 가능한 확률로 그 다음 토큰을 생성해냅니다.\n",
        "많은 `num_beams`를 설정하면 그만한 길이에 대한 토큰에 대한 확률을 저장해야하는 문제가 있지만 그리디 서치에 비해 효과적입니다.\n",
        "\n",
        "**주의!:** 만약에 `num_beams`이 1이면 그리디 서치와 같습니다."
      ]
    },
    {
      "cell_type": "code",
      "execution_count": null,
      "metadata": {
        "id": "4s4PRTggw4Yt",
        "colab": {
          "base_uri": "https://localhost:8080/"
        },
        "outputId": "8d2f7e93-e94f-4c1d-ada0-c7ce59c29bf9"
      },
      "outputs": [
        {
          "output_type": "stream",
          "name": "stdout",
          "text": [
            "Beam search generated text: \n",
            "b'[BOS] \" i don \\' t want to tell you'\n",
            "\n"
          ]
        }
      ],
      "source": [
        "output_tokens = keras_nlp.utils.beam_search(\n",
        "    token_logits_fn,\n",
        "    prompt_tokens,\n",
        "    max_length=NUM_TOKENS_TO_GENERATE,\n",
        "    num_beams=10,\n",
        "    from_logits=True,\n",
        ")\n",
        "txt = tokenizer.detokenize(output_tokens)\n",
        "print(f\"Beam search generated text: \\n{txt}\\n\")"
      ]
    },
    {
      "cell_type": "markdown",
      "metadata": {
        "id": "__6V3qK2w4Yt"
      },
      "source": [
        "### 랜덤 서치\n",
        "\n",
        "랜덤 서치는 말 그대로 토큰을 랜덤으로 출력하는 방식인데, 여기서는 생성된 토큰의 확률을 토대로 랜덤 출력을 하는 방식입니다."
      ]
    },
    {
      "cell_type": "code",
      "execution_count": null,
      "metadata": {
        "id": "jcLU65XRw4Yt",
        "colab": {
          "base_uri": "https://localhost:8080/"
        },
        "outputId": "aa8bb306-1c89-45b9-d62b-202f4e196c36"
      },
      "outputs": [
        {
          "output_type": "stream",
          "name": "stdout",
          "text": [
            "Random search generated text: \n",
            "b'[BOS] \" tumbling ! i guess , of course'\n",
            "\n"
          ]
        }
      ],
      "source": [
        "output_tokens = keras_nlp.utils.random_search(\n",
        "    token_logits_fn,\n",
        "    prompt_tokens,\n",
        "    max_length=NUM_TOKENS_TO_GENERATE,\n",
        "    from_logits=True,\n",
        ")\n",
        "txt = tokenizer.detokenize(output_tokens)\n",
        "print(f\"Random search generated text: \\n{txt}\\n\")"
      ]
    },
    {
      "cell_type": "markdown",
      "metadata": {
        "id": "PMzKcs97w4Yu"
      },
      "source": [
        "이렇게 랜덤 서치를 활용하면 단어가 반복하면서 생성되지 않는 것을 확인할 수 있습니다.\n",
        "이와 같은 방식으로 조금 더 좋은 택스트 생성을 할 수 있는 Top-k 서치를 살펴보겠습니다."
      ]
    },
    {
      "cell_type": "markdown",
      "metadata": {
        "id": "H4V_jV0Vw4Yu"
      },
      "source": [
        "### Top-K 서치\n",
        "\n",
        "위에 소개한 랜덤 서치와 비슷한 방법입니다. \n",
        "단, 차이점은 토큰 확률에서 Top-K 개만을 가지고 랜덤 서치를 하는 방식입니다.\n",
        "\n",
        "이렇게 하는 이유는 가장 낮은 확률의 토큰이 나오면 맥락에 맞지 않는 토큰들이 생성될 가능성이 있기 때문입니다.\n",
        "Top-K 서치를 사용하게 되면 적어도 랜덤 서치에 비해서 나은 택스트 생성 결과를 확인할 수 있습니다."
      ]
    },
    {
      "cell_type": "code",
      "execution_count": null,
      "metadata": {
        "id": "RuHIUh1cw4Yu",
        "colab": {
          "base_uri": "https://localhost:8080/"
        },
        "outputId": "4df85932-3ad7-41fa-98f7-f3bc94171757"
      },
      "outputs": [
        {
          "output_type": "stream",
          "name": "stdout",
          "text": [
            "Top-K search generated text: \n",
            "b'[BOS] \" i can \\' t say that it \\''\n",
            "\n"
          ]
        }
      ],
      "source": [
        "output_tokens = keras_nlp.utils.top_k_search(\n",
        "    token_logits_fn,\n",
        "    prompt_tokens,\n",
        "    max_length=NUM_TOKENS_TO_GENERATE,\n",
        "    k=10,\n",
        "    from_logits=True,\n",
        ")\n",
        "txt = tokenizer.detokenize(output_tokens)\n",
        "print(f\"Top-K search generated text: \\n{txt}\\n\")"
      ]
    },
    {
      "cell_type": "markdown",
      "metadata": {
        "id": "rHRgiaxYw4Yu"
      },
      "source": [
        "### Top-P 서치\n",
        "\n",
        "Top-K 서치의 경우 분명히 좋은 텍스트 생성을 하지만, 적절한 K 값을 찾는 것이 어렵습니다.\n",
        "만약에 k=5로 했을 경우 5번째로 높은 토큰의 확률이 0.3일 경우도 있고 이보다 작은 0.1일 경우도 있습니다. \n",
        "다시말해 생성하는 토큰의 확률 분포에 따라 낮은 확률을 가진 토큰이 생성이 될 수도 있습니다.\n",
        "\n",
        "이러한 문제를 토큰의 확률이 높은 순서가 아니라 일정 확률이 높은순에서 합한 누적확률을 기준으로 샘플링을 할 수 있는데 이런 방법이 Top-P 서치입니다.\n",
        "Top-P 서치를 이용하여 P값을 0.8로 설정한다면 Top-1에서부터 높은 확률을 순차적으로 누적했을 때 0.8이 되는 토큰들만을 가지고 샘플링을 하는 방식입니다.\n",
        "이 방식은 지금까지 가장 효과적인 택스트 생성 방식으로 알려져 있습니다."
      ]
    },
    {
      "cell_type": "code",
      "execution_count": null,
      "metadata": {
        "id": "nzBlhFDHw4Yu",
        "colab": {
          "base_uri": "https://localhost:8080/"
        },
        "outputId": "03582dfb-c72d-454f-974b-6d61c6300b1a"
      },
      "outputs": [
        {
          "output_type": "stream",
          "name": "stdout",
          "text": [
            "Top-P search generated text: \n",
            "b'[BOS] when the three had left the peak'\n",
            "\n"
          ]
        }
      ],
      "source": [
        "output_tokens = keras_nlp.utils.top_p_search(\n",
        "    token_logits_fn,\n",
        "    prompt_tokens,\n",
        "    max_length=NUM_TOKENS_TO_GENERATE,\n",
        "    p=0.5,\n",
        "    from_logits=True,\n",
        ")\n",
        "txt = tokenizer.detokenize(output_tokens)\n",
        "print(f\"Top-P search generated text: \\n{txt}\\n\")"
      ]
    },
    {
      "cell_type": "markdown",
      "metadata": {
        "id": "dP9F8xR8w4Yu"
      },
      "source": [
        "### Callback을 이용하여 테스트에서 텍스트 생성 결과 확인해보기\n",
        "\n",
        "Keras에서는 Callback 클래스를 이용하여 중간 평가를 해보거나 결과를 생성해볼 수 있습니다.\n",
        "아래 코드에서는 간단한 Top-K 방식의 택스트 생성 Callback 클래스를 구현하여 학습에 어떻게 적용할 수 있는지 보여줍니다."
      ]
    },
    {
      "cell_type": "code",
      "execution_count": null,
      "metadata": {
        "id": "JA1pSahBw4Yu",
        "colab": {
          "base_uri": "https://localhost:8080/"
        },
        "outputId": "ec04ec3e-4167-4220-ae34-2ede92c0e448"
      },
      "outputs": [
        {
          "output_type": "stream",
          "name": "stdout",
          "text": [
            "Epoch 1/2\n",
            "Top-K search generated text: \n",
            "b'[BOS] \" i will tell you something about the world'\n",
            "\n",
            "1/1 - 5s - loss: 3.9148 - perplexity: 51.8893 - 5s/epoch - 5s/step\n",
            "Epoch 2/2\n",
            "Top-K search generated text: \n",
            "b'[BOS] \" you must remember my mother , \" he'\n",
            "\n",
            "1/1 - 5s - loss: 3.7833 - perplexity: 47.9053 - 5s/epoch - 5s/step\n"
          ]
        },
        {
          "output_type": "execute_result",
          "data": {
            "text/plain": [
              "<keras.callbacks.History at 0x7f640feef210>"
            ]
          },
          "metadata": {},
          "execution_count": 40
        }
      ],
      "source": [
        "\n",
        "class TopKTextGenerator(keras.callbacks.Callback):\n",
        "    \"\"\"A callback to generate text from a trained model using top-k.\"\"\"\n",
        "\n",
        "    def __init__(self, k):\n",
        "        self.k = k\n",
        "\n",
        "    def on_epoch_end(self, epoch, logs=None):\n",
        "        output_tokens = keras_nlp.utils.top_k_search(\n",
        "            token_logits_fn,\n",
        "            prompt_tokens,\n",
        "            max_length=NUM_TOKENS_TO_GENERATE,\n",
        "            k=self.k,\n",
        "            from_logits=True,\n",
        "        )\n",
        "        txt = tokenizer.detokenize(output_tokens)\n",
        "        print(f\"Top-K search generated text: \\n{txt}\\n\")\n",
        "\n",
        "\n",
        "text_generation_callback = TopKTextGenerator(k=10)\n",
        "# Dummy training loop to demonstrate callback.\n",
        "model.fit(train_ds.take(1), verbose=2, epochs=2, callbacks=[text_generation_callback])"
      ]
    },
    {
      "cell_type": "markdown",
      "metadata": {
        "id": "q2ldP98Pw4Yu"
      },
      "source": [
        "## 마무리\n",
        "\n",
        "이렇게 해서 KerasNLP를 가지고 토크나이저와 미니어쳐 GPT를 만들어보고,\n",
        "GPT 모델을 가지고 어떻게 텍스트를 생성하는지 까지 알아봤습니다.\n",
        "\n",
        "모델에 대해서 보다 더 자세하게 보고싶은 분은 아래 두 논문을 참고해주시기 바랍니다.\n",
        "\n",
        "- Attention Is All You Need [Vaswani et al., 2017](https://arxiv.org/abs/1706.03762)\n",
        "- GPT-3 Paper [Brown et al., 2020](https://arxiv.org/abs/2005.14165)"
      ]
    }
  ],
  "metadata": {
    "accelerator": "GPU",
    "colab": {
      "collapsed_sections": [],
      "provenance": []
    },
    "gpuClass": "premium",
    "kernelspec": {
      "display_name": "Python 3",
      "language": "python",
      "name": "python3"
    },
    "language_info": {
      "codemirror_mode": {
        "name": "ipython",
        "version": 3
      },
      "file_extension": ".py",
      "mimetype": "text/x-python",
      "name": "python",
      "nbconvert_exporter": "python",
      "pygments_lexer": "ipython3",
      "version": "3.7.0"
    }
  },
  "nbformat": 4,
  "nbformat_minor": 0
}